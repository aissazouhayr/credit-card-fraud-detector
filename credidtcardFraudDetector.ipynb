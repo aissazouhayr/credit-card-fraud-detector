{
 "cells": [
  {
   "cell_type": "markdown",
   "metadata": {},
   "source": [
    "##Credit card fraudlant predictor\n"
   ]
  },
  {
   "cell_type": "markdown",
   "metadata": {},
   "source": [
    "\n",
    "#group names:\n",
    "# Aissa Zouhayr\n",
    "# Arezouma Ngobo\n",
    "\n",
    "## credit card fraud detector"
   ]
  },
  {
   "cell_type": "markdown",
   "metadata": {},
   "source": [
    "Content\n",
    "\n",
    "The datasets contains transactions made by credit cards in September 2013 by european cardholders. This dataset presents transactions that occurred in two days, where we have 492 frauds out of 284,807 transactions. The dataset is highly unbalanced, the positive class (frauds) account for 0.172% of all transactions.\n",
    "\n",
    "link to data https://www.kaggle.com/mlg-ulb/creditcardfraud/downloads/creditcardfraud.zip/3\n",
    "\n",
    "Task: the data is umbalanced so we will subsample (using under and over sampling) and train the model with it\n",
    "then we test the models using the original data"
   ]
  },
  {
   "cell_type": "code",
   "execution_count": 1,
   "metadata": {},
   "outputs": [
    {
     "data": {
      "text/html": [
       "<div>\n",
       "<style scoped>\n",
       "    .dataframe tbody tr th:only-of-type {\n",
       "        vertical-align: middle;\n",
       "    }\n",
       "\n",
       "    .dataframe tbody tr th {\n",
       "        vertical-align: top;\n",
       "    }\n",
       "\n",
       "    .dataframe thead th {\n",
       "        text-align: right;\n",
       "    }\n",
       "</style>\n",
       "<table border=\"1\" class=\"dataframe\">\n",
       "  <thead>\n",
       "    <tr style=\"text-align: right;\">\n",
       "      <th></th>\n",
       "      <th>Time</th>\n",
       "      <th>V1</th>\n",
       "      <th>V2</th>\n",
       "      <th>V3</th>\n",
       "      <th>V4</th>\n",
       "      <th>V5</th>\n",
       "      <th>V6</th>\n",
       "      <th>V7</th>\n",
       "      <th>V8</th>\n",
       "      <th>V9</th>\n",
       "      <th>...</th>\n",
       "      <th>V21</th>\n",
       "      <th>V22</th>\n",
       "      <th>V23</th>\n",
       "      <th>V24</th>\n",
       "      <th>V25</th>\n",
       "      <th>V26</th>\n",
       "      <th>V27</th>\n",
       "      <th>V28</th>\n",
       "      <th>Amount</th>\n",
       "      <th>Class</th>\n",
       "    </tr>\n",
       "  </thead>\n",
       "  <tbody>\n",
       "    <tr>\n",
       "      <th>0</th>\n",
       "      <td>0.0</td>\n",
       "      <td>-1.359807</td>\n",
       "      <td>-0.072781</td>\n",
       "      <td>2.536347</td>\n",
       "      <td>1.378155</td>\n",
       "      <td>-0.338321</td>\n",
       "      <td>0.462388</td>\n",
       "      <td>0.239599</td>\n",
       "      <td>0.098698</td>\n",
       "      <td>0.363787</td>\n",
       "      <td>...</td>\n",
       "      <td>-0.018307</td>\n",
       "      <td>0.277838</td>\n",
       "      <td>-0.110474</td>\n",
       "      <td>0.066928</td>\n",
       "      <td>0.128539</td>\n",
       "      <td>-0.189115</td>\n",
       "      <td>0.133558</td>\n",
       "      <td>-0.021053</td>\n",
       "      <td>149.62</td>\n",
       "      <td>0</td>\n",
       "    </tr>\n",
       "    <tr>\n",
       "      <th>1</th>\n",
       "      <td>0.0</td>\n",
       "      <td>1.191857</td>\n",
       "      <td>0.266151</td>\n",
       "      <td>0.166480</td>\n",
       "      <td>0.448154</td>\n",
       "      <td>0.060018</td>\n",
       "      <td>-0.082361</td>\n",
       "      <td>-0.078803</td>\n",
       "      <td>0.085102</td>\n",
       "      <td>-0.255425</td>\n",
       "      <td>...</td>\n",
       "      <td>-0.225775</td>\n",
       "      <td>-0.638672</td>\n",
       "      <td>0.101288</td>\n",
       "      <td>-0.339846</td>\n",
       "      <td>0.167170</td>\n",
       "      <td>0.125895</td>\n",
       "      <td>-0.008983</td>\n",
       "      <td>0.014724</td>\n",
       "      <td>2.69</td>\n",
       "      <td>0</td>\n",
       "    </tr>\n",
       "    <tr>\n",
       "      <th>2</th>\n",
       "      <td>1.0</td>\n",
       "      <td>-1.358354</td>\n",
       "      <td>-1.340163</td>\n",
       "      <td>1.773209</td>\n",
       "      <td>0.379780</td>\n",
       "      <td>-0.503198</td>\n",
       "      <td>1.800499</td>\n",
       "      <td>0.791461</td>\n",
       "      <td>0.247676</td>\n",
       "      <td>-1.514654</td>\n",
       "      <td>...</td>\n",
       "      <td>0.247998</td>\n",
       "      <td>0.771679</td>\n",
       "      <td>0.909412</td>\n",
       "      <td>-0.689281</td>\n",
       "      <td>-0.327642</td>\n",
       "      <td>-0.139097</td>\n",
       "      <td>-0.055353</td>\n",
       "      <td>-0.059752</td>\n",
       "      <td>378.66</td>\n",
       "      <td>0</td>\n",
       "    </tr>\n",
       "    <tr>\n",
       "      <th>3</th>\n",
       "      <td>1.0</td>\n",
       "      <td>-0.966272</td>\n",
       "      <td>-0.185226</td>\n",
       "      <td>1.792993</td>\n",
       "      <td>-0.863291</td>\n",
       "      <td>-0.010309</td>\n",
       "      <td>1.247203</td>\n",
       "      <td>0.237609</td>\n",
       "      <td>0.377436</td>\n",
       "      <td>-1.387024</td>\n",
       "      <td>...</td>\n",
       "      <td>-0.108300</td>\n",
       "      <td>0.005274</td>\n",
       "      <td>-0.190321</td>\n",
       "      <td>-1.175575</td>\n",
       "      <td>0.647376</td>\n",
       "      <td>-0.221929</td>\n",
       "      <td>0.062723</td>\n",
       "      <td>0.061458</td>\n",
       "      <td>123.50</td>\n",
       "      <td>0</td>\n",
       "    </tr>\n",
       "    <tr>\n",
       "      <th>4</th>\n",
       "      <td>2.0</td>\n",
       "      <td>-1.158233</td>\n",
       "      <td>0.877737</td>\n",
       "      <td>1.548718</td>\n",
       "      <td>0.403034</td>\n",
       "      <td>-0.407193</td>\n",
       "      <td>0.095921</td>\n",
       "      <td>0.592941</td>\n",
       "      <td>-0.270533</td>\n",
       "      <td>0.817739</td>\n",
       "      <td>...</td>\n",
       "      <td>-0.009431</td>\n",
       "      <td>0.798278</td>\n",
       "      <td>-0.137458</td>\n",
       "      <td>0.141267</td>\n",
       "      <td>-0.206010</td>\n",
       "      <td>0.502292</td>\n",
       "      <td>0.219422</td>\n",
       "      <td>0.215153</td>\n",
       "      <td>69.99</td>\n",
       "      <td>0</td>\n",
       "    </tr>\n",
       "  </tbody>\n",
       "</table>\n",
       "<p>5 rows × 31 columns</p>\n",
       "</div>"
      ],
      "text/plain": [
       "   Time        V1        V2        V3        V4        V5        V6        V7  \\\n",
       "0   0.0 -1.359807 -0.072781  2.536347  1.378155 -0.338321  0.462388  0.239599   \n",
       "1   0.0  1.191857  0.266151  0.166480  0.448154  0.060018 -0.082361 -0.078803   \n",
       "2   1.0 -1.358354 -1.340163  1.773209  0.379780 -0.503198  1.800499  0.791461   \n",
       "3   1.0 -0.966272 -0.185226  1.792993 -0.863291 -0.010309  1.247203  0.237609   \n",
       "4   2.0 -1.158233  0.877737  1.548718  0.403034 -0.407193  0.095921  0.592941   \n",
       "\n",
       "         V8        V9  ...         V21       V22       V23       V24  \\\n",
       "0  0.098698  0.363787  ...   -0.018307  0.277838 -0.110474  0.066928   \n",
       "1  0.085102 -0.255425  ...   -0.225775 -0.638672  0.101288 -0.339846   \n",
       "2  0.247676 -1.514654  ...    0.247998  0.771679  0.909412 -0.689281   \n",
       "3  0.377436 -1.387024  ...   -0.108300  0.005274 -0.190321 -1.175575   \n",
       "4 -0.270533  0.817739  ...   -0.009431  0.798278 -0.137458  0.141267   \n",
       "\n",
       "        V25       V26       V27       V28  Amount  Class  \n",
       "0  0.128539 -0.189115  0.133558 -0.021053  149.62      0  \n",
       "1  0.167170  0.125895 -0.008983  0.014724    2.69      0  \n",
       "2 -0.327642 -0.139097 -0.055353 -0.059752  378.66      0  \n",
       "3  0.647376 -0.221929  0.062723  0.061458  123.50      0  \n",
       "4 -0.206010  0.502292  0.219422  0.215153   69.99      0  \n",
       "\n",
       "[5 rows x 31 columns]"
      ]
     },
     "execution_count": 1,
     "metadata": {},
     "output_type": "execute_result"
    }
   ],
   "source": [
    "import os\n",
    "import numpy as np\n",
    "import pandas as pd\n",
    "import matplotlib.pyplot as plt\n",
    "import seaborn as sns\n",
    "%matplotlib inline\n",
    "data = pd.read_csv('creditcard.csv')\n",
    "data.head()"
   ]
  },
  {
   "cell_type": "code",
   "execution_count": 2,
   "metadata": {},
   "outputs": [
    {
     "name": "stdout",
     "output_type": "stream",
     "text": [
      "<class 'pandas.core.frame.DataFrame'>\n",
      "RangeIndex: 284807 entries, 0 to 284806\n",
      "Data columns (total 31 columns):\n",
      "Time      284807 non-null float64\n",
      "V1        284807 non-null float64\n",
      "V2        284807 non-null float64\n",
      "V3        284807 non-null float64\n",
      "V4        284807 non-null float64\n",
      "V5        284807 non-null float64\n",
      "V6        284807 non-null float64\n",
      "V7        284807 non-null float64\n",
      "V8        284807 non-null float64\n",
      "V9        284807 non-null float64\n",
      "V10       284807 non-null float64\n",
      "V11       284807 non-null float64\n",
      "V12       284807 non-null float64\n",
      "V13       284807 non-null float64\n",
      "V14       284807 non-null float64\n",
      "V15       284807 non-null float64\n",
      "V16       284807 non-null float64\n",
      "V17       284807 non-null float64\n",
      "V18       284807 non-null float64\n",
      "V19       284807 non-null float64\n",
      "V20       284807 non-null float64\n",
      "V21       284807 non-null float64\n",
      "V22       284807 non-null float64\n",
      "V23       284807 non-null float64\n",
      "V24       284807 non-null float64\n",
      "V25       284807 non-null float64\n",
      "V26       284807 non-null float64\n",
      "V27       284807 non-null float64\n",
      "V28       284807 non-null float64\n",
      "Amount    284807 non-null float64\n",
      "Class     284807 non-null int64\n",
      "dtypes: float64(30), int64(1)\n",
      "memory usage: 67.4 MB\n"
     ]
    }
   ],
   "source": [
    "data.info()\n"
   ]
  },
  {
   "cell_type": "code",
   "execution_count": 3,
   "metadata": {},
   "outputs": [
    {
     "name": "stdout",
     "output_type": "stream",
     "text": [
      "(284807, 31)\n"
     ]
    }
   ],
   "source": [
    "print(data.shape)"
   ]
  },
  {
   "cell_type": "code",
   "execution_count": null,
   "metadata": {},
   "outputs": [],
   "source": []
  },
  {
   "cell_type": "code",
   "execution_count": null,
   "metadata": {},
   "outputs": [],
   "source": []
  },
  {
   "cell_type": "code",
   "execution_count": null,
   "metadata": {},
   "outputs": [],
   "source": []
  },
  {
   "cell_type": "code",
   "execution_count": null,
   "metadata": {},
   "outputs": [],
   "source": [
    "\n"
   ]
  },
  {
   "cell_type": "code",
   "execution_count": 4,
   "metadata": {},
   "outputs": [],
   "source": [
    "# features exploration \n",
    "#It contains only numerical input variables which are the result \n",
    "#of a PCA transformation. Unfortunately, due to confidentiality issues,\n",
    "#we cannot provide the original features and more background information\n",
    "#about the data. Features V1, V2, ... V28 are the principal components\n",
    "#obtained with PCA, the only features which have \n",
    "#not been transformed with PCA are 'Time' and 'Amount'.\n",
    "\n",
    "#TimeNumber of seconds elapsed between this transaction and the first transaction in the dataset\n",
    "#V1 may be result of a PCA Dimensionality reduction to protect user identities and sensitive features(v1-v28)\n",
    "#V2 => V27 V28abc\n",
    "#AmountTransaction amount\n",
    "#Class 1 for fraudulent transactions, 0 otherwise"
   ]
  },
  {
   "cell_type": "code",
   "execution_count": 5,
   "metadata": {},
   "outputs": [
    {
     "name": "stdout",
     "output_type": "stream",
     "text": [
      "Index(['Time', 'V1', 'V2', 'V3', 'V4', 'V5', 'V6', 'V7', 'V8', 'V9', 'V10',\n",
      "       'V11', 'V12', 'V13', 'V14', 'V15', 'V16', 'V17', 'V18', 'V19', 'V20',\n",
      "       'V21', 'V22', 'V23', 'V24', 'V25', 'V26', 'V27', 'V28', 'Amount',\n",
      "       'Class'],\n",
      "      dtype='object')\n"
     ]
    }
   ],
   "source": [
    "# checking for missing values\n",
    "c= data.columns\n",
    "print(c)"
   ]
  },
  {
   "cell_type": "code",
   "execution_count": 6,
   "metadata": {},
   "outputs": [
    {
     "name": "stdout",
     "output_type": "stream",
     "text": [
      "Time  nulls are:  0\n",
      "V1  nulls are:  0\n",
      "V2  nulls are:  0\n",
      "V3  nulls are:  0\n",
      "V4  nulls are:  0\n",
      "V5  nulls are:  0\n",
      "V6  nulls are:  0\n",
      "V7  nulls are:  0\n",
      "V8  nulls are:  0\n",
      "V9  nulls are:  0\n",
      "V10  nulls are:  0\n",
      "V11  nulls are:  0\n",
      "V12  nulls are:  0\n",
      "V13  nulls are:  0\n",
      "V14  nulls are:  0\n",
      "V15  nulls are:  0\n",
      "V16  nulls are:  0\n",
      "V17  nulls are:  0\n",
      "V18  nulls are:  0\n",
      "V19  nulls are:  0\n",
      "V20  nulls are:  0\n",
      "V21  nulls are:  0\n",
      "V22  nulls are:  0\n",
      "V23  nulls are:  0\n",
      "V24  nulls are:  0\n",
      "V25  nulls are:  0\n",
      "V26  nulls are:  0\n",
      "V27  nulls are:  0\n",
      "V28  nulls are:  0\n",
      "Amount  nulls are:  0\n",
      "Class  nulls are:  0\n"
     ]
    }
   ],
   "source": [
    "for d in range(len(c)):\n",
    "    \n",
    "    print(c[d], \" nulls are: \", data[c[d]].isnull().sum())\n",
    "    "
   ]
  },
  {
   "cell_type": "code",
   "execution_count": 7,
   "metadata": {},
   "outputs": [
    {
     "data": {
      "text/html": [
       "<div>\n",
       "<style scoped>\n",
       "    .dataframe tbody tr th:only-of-type {\n",
       "        vertical-align: middle;\n",
       "    }\n",
       "\n",
       "    .dataframe tbody tr th {\n",
       "        vertical-align: top;\n",
       "    }\n",
       "\n",
       "    .dataframe thead th {\n",
       "        text-align: right;\n",
       "    }\n",
       "</style>\n",
       "<table border=\"1\" class=\"dataframe\">\n",
       "  <thead>\n",
       "    <tr style=\"text-align: right;\">\n",
       "      <th></th>\n",
       "      <th>Time</th>\n",
       "      <th>V1</th>\n",
       "      <th>V2</th>\n",
       "      <th>V3</th>\n",
       "      <th>V4</th>\n",
       "      <th>V5</th>\n",
       "      <th>V6</th>\n",
       "      <th>V7</th>\n",
       "      <th>V8</th>\n",
       "      <th>V9</th>\n",
       "      <th>...</th>\n",
       "      <th>V21</th>\n",
       "      <th>V22</th>\n",
       "      <th>V23</th>\n",
       "      <th>V24</th>\n",
       "      <th>V25</th>\n",
       "      <th>V26</th>\n",
       "      <th>V27</th>\n",
       "      <th>V28</th>\n",
       "      <th>Amount</th>\n",
       "      <th>Class</th>\n",
       "    </tr>\n",
       "  </thead>\n",
       "  <tbody>\n",
       "    <tr>\n",
       "      <th>count</th>\n",
       "      <td>284807.000000</td>\n",
       "      <td>2.848070e+05</td>\n",
       "      <td>2.848070e+05</td>\n",
       "      <td>2.848070e+05</td>\n",
       "      <td>2.848070e+05</td>\n",
       "      <td>2.848070e+05</td>\n",
       "      <td>2.848070e+05</td>\n",
       "      <td>2.848070e+05</td>\n",
       "      <td>2.848070e+05</td>\n",
       "      <td>2.848070e+05</td>\n",
       "      <td>...</td>\n",
       "      <td>2.848070e+05</td>\n",
       "      <td>2.848070e+05</td>\n",
       "      <td>2.848070e+05</td>\n",
       "      <td>2.848070e+05</td>\n",
       "      <td>2.848070e+05</td>\n",
       "      <td>2.848070e+05</td>\n",
       "      <td>2.848070e+05</td>\n",
       "      <td>2.848070e+05</td>\n",
       "      <td>284807.000000</td>\n",
       "      <td>284807.000000</td>\n",
       "    </tr>\n",
       "    <tr>\n",
       "      <th>mean</th>\n",
       "      <td>94813.859575</td>\n",
       "      <td>3.919560e-15</td>\n",
       "      <td>5.688174e-16</td>\n",
       "      <td>-8.769071e-15</td>\n",
       "      <td>2.782312e-15</td>\n",
       "      <td>-1.552563e-15</td>\n",
       "      <td>2.010663e-15</td>\n",
       "      <td>-1.694249e-15</td>\n",
       "      <td>-1.927028e-16</td>\n",
       "      <td>-3.137024e-15</td>\n",
       "      <td>...</td>\n",
       "      <td>1.537294e-16</td>\n",
       "      <td>7.959909e-16</td>\n",
       "      <td>5.367590e-16</td>\n",
       "      <td>4.458112e-15</td>\n",
       "      <td>1.453003e-15</td>\n",
       "      <td>1.699104e-15</td>\n",
       "      <td>-3.660161e-16</td>\n",
       "      <td>-1.206049e-16</td>\n",
       "      <td>88.349619</td>\n",
       "      <td>0.001727</td>\n",
       "    </tr>\n",
       "    <tr>\n",
       "      <th>std</th>\n",
       "      <td>47488.145955</td>\n",
       "      <td>1.958696e+00</td>\n",
       "      <td>1.651309e+00</td>\n",
       "      <td>1.516255e+00</td>\n",
       "      <td>1.415869e+00</td>\n",
       "      <td>1.380247e+00</td>\n",
       "      <td>1.332271e+00</td>\n",
       "      <td>1.237094e+00</td>\n",
       "      <td>1.194353e+00</td>\n",
       "      <td>1.098632e+00</td>\n",
       "      <td>...</td>\n",
       "      <td>7.345240e-01</td>\n",
       "      <td>7.257016e-01</td>\n",
       "      <td>6.244603e-01</td>\n",
       "      <td>6.056471e-01</td>\n",
       "      <td>5.212781e-01</td>\n",
       "      <td>4.822270e-01</td>\n",
       "      <td>4.036325e-01</td>\n",
       "      <td>3.300833e-01</td>\n",
       "      <td>250.120109</td>\n",
       "      <td>0.041527</td>\n",
       "    </tr>\n",
       "    <tr>\n",
       "      <th>min</th>\n",
       "      <td>0.000000</td>\n",
       "      <td>-5.640751e+01</td>\n",
       "      <td>-7.271573e+01</td>\n",
       "      <td>-4.832559e+01</td>\n",
       "      <td>-5.683171e+00</td>\n",
       "      <td>-1.137433e+02</td>\n",
       "      <td>-2.616051e+01</td>\n",
       "      <td>-4.355724e+01</td>\n",
       "      <td>-7.321672e+01</td>\n",
       "      <td>-1.343407e+01</td>\n",
       "      <td>...</td>\n",
       "      <td>-3.483038e+01</td>\n",
       "      <td>-1.093314e+01</td>\n",
       "      <td>-4.480774e+01</td>\n",
       "      <td>-2.836627e+00</td>\n",
       "      <td>-1.029540e+01</td>\n",
       "      <td>-2.604551e+00</td>\n",
       "      <td>-2.256568e+01</td>\n",
       "      <td>-1.543008e+01</td>\n",
       "      <td>0.000000</td>\n",
       "      <td>0.000000</td>\n",
       "    </tr>\n",
       "    <tr>\n",
       "      <th>25%</th>\n",
       "      <td>54201.500000</td>\n",
       "      <td>-9.203734e-01</td>\n",
       "      <td>-5.985499e-01</td>\n",
       "      <td>-8.903648e-01</td>\n",
       "      <td>-8.486401e-01</td>\n",
       "      <td>-6.915971e-01</td>\n",
       "      <td>-7.682956e-01</td>\n",
       "      <td>-5.540759e-01</td>\n",
       "      <td>-2.086297e-01</td>\n",
       "      <td>-6.430976e-01</td>\n",
       "      <td>...</td>\n",
       "      <td>-2.283949e-01</td>\n",
       "      <td>-5.423504e-01</td>\n",
       "      <td>-1.618463e-01</td>\n",
       "      <td>-3.545861e-01</td>\n",
       "      <td>-3.171451e-01</td>\n",
       "      <td>-3.269839e-01</td>\n",
       "      <td>-7.083953e-02</td>\n",
       "      <td>-5.295979e-02</td>\n",
       "      <td>5.600000</td>\n",
       "      <td>0.000000</td>\n",
       "    </tr>\n",
       "    <tr>\n",
       "      <th>50%</th>\n",
       "      <td>84692.000000</td>\n",
       "      <td>1.810880e-02</td>\n",
       "      <td>6.548556e-02</td>\n",
       "      <td>1.798463e-01</td>\n",
       "      <td>-1.984653e-02</td>\n",
       "      <td>-5.433583e-02</td>\n",
       "      <td>-2.741871e-01</td>\n",
       "      <td>4.010308e-02</td>\n",
       "      <td>2.235804e-02</td>\n",
       "      <td>-5.142873e-02</td>\n",
       "      <td>...</td>\n",
       "      <td>-2.945017e-02</td>\n",
       "      <td>6.781943e-03</td>\n",
       "      <td>-1.119293e-02</td>\n",
       "      <td>4.097606e-02</td>\n",
       "      <td>1.659350e-02</td>\n",
       "      <td>-5.213911e-02</td>\n",
       "      <td>1.342146e-03</td>\n",
       "      <td>1.124383e-02</td>\n",
       "      <td>22.000000</td>\n",
       "      <td>0.000000</td>\n",
       "    </tr>\n",
       "    <tr>\n",
       "      <th>75%</th>\n",
       "      <td>139320.500000</td>\n",
       "      <td>1.315642e+00</td>\n",
       "      <td>8.037239e-01</td>\n",
       "      <td>1.027196e+00</td>\n",
       "      <td>7.433413e-01</td>\n",
       "      <td>6.119264e-01</td>\n",
       "      <td>3.985649e-01</td>\n",
       "      <td>5.704361e-01</td>\n",
       "      <td>3.273459e-01</td>\n",
       "      <td>5.971390e-01</td>\n",
       "      <td>...</td>\n",
       "      <td>1.863772e-01</td>\n",
       "      <td>5.285536e-01</td>\n",
       "      <td>1.476421e-01</td>\n",
       "      <td>4.395266e-01</td>\n",
       "      <td>3.507156e-01</td>\n",
       "      <td>2.409522e-01</td>\n",
       "      <td>9.104512e-02</td>\n",
       "      <td>7.827995e-02</td>\n",
       "      <td>77.165000</td>\n",
       "      <td>0.000000</td>\n",
       "    </tr>\n",
       "    <tr>\n",
       "      <th>max</th>\n",
       "      <td>172792.000000</td>\n",
       "      <td>2.454930e+00</td>\n",
       "      <td>2.205773e+01</td>\n",
       "      <td>9.382558e+00</td>\n",
       "      <td>1.687534e+01</td>\n",
       "      <td>3.480167e+01</td>\n",
       "      <td>7.330163e+01</td>\n",
       "      <td>1.205895e+02</td>\n",
       "      <td>2.000721e+01</td>\n",
       "      <td>1.559499e+01</td>\n",
       "      <td>...</td>\n",
       "      <td>2.720284e+01</td>\n",
       "      <td>1.050309e+01</td>\n",
       "      <td>2.252841e+01</td>\n",
       "      <td>4.584549e+00</td>\n",
       "      <td>7.519589e+00</td>\n",
       "      <td>3.517346e+00</td>\n",
       "      <td>3.161220e+01</td>\n",
       "      <td>3.384781e+01</td>\n",
       "      <td>25691.160000</td>\n",
       "      <td>1.000000</td>\n",
       "    </tr>\n",
       "  </tbody>\n",
       "</table>\n",
       "<p>8 rows × 31 columns</p>\n",
       "</div>"
      ],
      "text/plain": [
       "                Time            V1            V2            V3            V4  \\\n",
       "count  284807.000000  2.848070e+05  2.848070e+05  2.848070e+05  2.848070e+05   \n",
       "mean    94813.859575  3.919560e-15  5.688174e-16 -8.769071e-15  2.782312e-15   \n",
       "std     47488.145955  1.958696e+00  1.651309e+00  1.516255e+00  1.415869e+00   \n",
       "min         0.000000 -5.640751e+01 -7.271573e+01 -4.832559e+01 -5.683171e+00   \n",
       "25%     54201.500000 -9.203734e-01 -5.985499e-01 -8.903648e-01 -8.486401e-01   \n",
       "50%     84692.000000  1.810880e-02  6.548556e-02  1.798463e-01 -1.984653e-02   \n",
       "75%    139320.500000  1.315642e+00  8.037239e-01  1.027196e+00  7.433413e-01   \n",
       "max    172792.000000  2.454930e+00  2.205773e+01  9.382558e+00  1.687534e+01   \n",
       "\n",
       "                 V5            V6            V7            V8            V9  \\\n",
       "count  2.848070e+05  2.848070e+05  2.848070e+05  2.848070e+05  2.848070e+05   \n",
       "mean  -1.552563e-15  2.010663e-15 -1.694249e-15 -1.927028e-16 -3.137024e-15   \n",
       "std    1.380247e+00  1.332271e+00  1.237094e+00  1.194353e+00  1.098632e+00   \n",
       "min   -1.137433e+02 -2.616051e+01 -4.355724e+01 -7.321672e+01 -1.343407e+01   \n",
       "25%   -6.915971e-01 -7.682956e-01 -5.540759e-01 -2.086297e-01 -6.430976e-01   \n",
       "50%   -5.433583e-02 -2.741871e-01  4.010308e-02  2.235804e-02 -5.142873e-02   \n",
       "75%    6.119264e-01  3.985649e-01  5.704361e-01  3.273459e-01  5.971390e-01   \n",
       "max    3.480167e+01  7.330163e+01  1.205895e+02  2.000721e+01  1.559499e+01   \n",
       "\n",
       "           ...                 V21           V22           V23           V24  \\\n",
       "count      ...        2.848070e+05  2.848070e+05  2.848070e+05  2.848070e+05   \n",
       "mean       ...        1.537294e-16  7.959909e-16  5.367590e-16  4.458112e-15   \n",
       "std        ...        7.345240e-01  7.257016e-01  6.244603e-01  6.056471e-01   \n",
       "min        ...       -3.483038e+01 -1.093314e+01 -4.480774e+01 -2.836627e+00   \n",
       "25%        ...       -2.283949e-01 -5.423504e-01 -1.618463e-01 -3.545861e-01   \n",
       "50%        ...       -2.945017e-02  6.781943e-03 -1.119293e-02  4.097606e-02   \n",
       "75%        ...        1.863772e-01  5.285536e-01  1.476421e-01  4.395266e-01   \n",
       "max        ...        2.720284e+01  1.050309e+01  2.252841e+01  4.584549e+00   \n",
       "\n",
       "                V25           V26           V27           V28         Amount  \\\n",
       "count  2.848070e+05  2.848070e+05  2.848070e+05  2.848070e+05  284807.000000   \n",
       "mean   1.453003e-15  1.699104e-15 -3.660161e-16 -1.206049e-16      88.349619   \n",
       "std    5.212781e-01  4.822270e-01  4.036325e-01  3.300833e-01     250.120109   \n",
       "min   -1.029540e+01 -2.604551e+00 -2.256568e+01 -1.543008e+01       0.000000   \n",
       "25%   -3.171451e-01 -3.269839e-01 -7.083953e-02 -5.295979e-02       5.600000   \n",
       "50%    1.659350e-02 -5.213911e-02  1.342146e-03  1.124383e-02      22.000000   \n",
       "75%    3.507156e-01  2.409522e-01  9.104512e-02  7.827995e-02      77.165000   \n",
       "max    7.519589e+00  3.517346e+00  3.161220e+01  3.384781e+01   25691.160000   \n",
       "\n",
       "               Class  \n",
       "count  284807.000000  \n",
       "mean        0.001727  \n",
       "std         0.041527  \n",
       "min         0.000000  \n",
       "25%         0.000000  \n",
       "50%         0.000000  \n",
       "75%         0.000000  \n",
       "max         1.000000  \n",
       "\n",
       "[8 rows x 31 columns]"
      ]
     },
     "execution_count": 7,
     "metadata": {},
     "output_type": "execute_result"
    }
   ],
   "source": [
    "data.describe()\n"
   ]
  },
  {
   "cell_type": "markdown",
   "metadata": {},
   "source": []
  },
  {
   "cell_type": "code",
   "execution_count": 8,
   "metadata": {},
   "outputs": [
    {
     "data": {
      "image/png": "[encoded data removed]",
      "text/plain": [
       "<Figure size 1080x1080 with 36 Axes>"
      ]
     },
     "metadata": {
      "needs_background": "light"
     },
     "output_type": "display_data"
    }
   ],
   "source": [
    "# graphical distribution of data\n",
    "%matplotlib inline\n",
    "import matplotlib.pyplot as plt\n",
    "data.hist(bins=50, figsize=(15,15))\n",
    "plt.show()"
   ]
  },
  {
   "cell_type": "code",
   "execution_count": 9,
   "metadata": {},
   "outputs": [],
   "source": [
    "#Use .corr() to display the standard correlation coefficient between rank value and each input feature.\n",
    "#Use pandas.plotting.scatter_matrix() to visualize the correlation.\n",
    "#Correlation coefficient ranges from -1 to 1.\n",
    "#When it is close to 1, it means that there is a strong positive correlation.\n",
    "#When it is close to -1, it means that there is a strong negative correlation.\n",
    "#When it is close to zero, it means that there is no linear correlation (other correlation may still exist\n"
   ]
  },
  {
   "cell_type": "code",
   "execution_count": 10,
   "metadata": {},
   "outputs": [
    {
     "data": {
      "text/plain": [
       "Class     1.000000\n",
       "V11       0.154876\n",
       "V4        0.133447\n",
       "V2        0.091289\n",
       "V21       0.040413\n",
       "V19       0.034783\n",
       "V20       0.020090\n",
       "V8        0.019875\n",
       "V27       0.017580\n",
       "V28       0.009536\n",
       "Amount    0.005632\n",
       "V26       0.004455\n",
       "V25       0.003308\n",
       "V22       0.000805\n",
       "V23      -0.002685\n",
       "V15      -0.004223\n",
       "V13      -0.004570\n",
       "V24      -0.007221\n",
       "Time     -0.012323\n",
       "V6       -0.043643\n",
       "V5       -0.094974\n",
       "V9       -0.097733\n",
       "V1       -0.101347\n",
       "V18      -0.111485\n",
       "V7       -0.187257\n",
       "V3       -0.192961\n",
       "V16      -0.196539\n",
       "V10      -0.216883\n",
       "V12      -0.260593\n",
       "V14      -0.302544\n",
       "V17      -0.326481\n",
       "Name: Class, dtype: float64"
      ]
     },
     "execution_count": 10,
     "metadata": {},
     "output_type": "execute_result"
    }
   ],
   "source": [
    "data.corr()['Class'].sort_values(ascending=False)\n",
    "# from data below we see that it is hard to see correlations between featues and classes"
   ]
  },
  {
   "cell_type": "code",
   "execution_count": 11,
   "metadata": {},
   "outputs": [
    {
     "name": "stdout",
     "output_type": "stream",
     "text": [
      "No Frauds 99.83 % of the dataset\n",
      "Frauds 0.17 % of the dataset\n"
     ]
    }
   ],
   "source": [
    "# take a look at the class distribution\n",
    "print('No Frauds', round(data['Class'].value_counts()[0]/len(data) * 100,2), '% of the dataset')\n",
    "print('Frauds', round(data['Class'].value_counts()[1]/len(data) * 100,2), '% of the dataset')\n",
    "# the data is Umbalanced as seen from results below we need to solve this problem \n",
    "# otherwise the model we will  train we will assume every instance as class 0 no fraud "
   ]
  },
  {
   "cell_type": "code",
   "execution_count": 12,
   "metadata": {},
   "outputs": [
    {
     "data": {
      "text/plain": [
       "Text(0.5, 1.0, 'Class Distributions \\n (0: No Fraud || 1: Fraud)')"
      ]
     },
     "execution_count": 12,
     "metadata": {},
     "output_type": "execute_result"
    },
    {
     "data": {
      "image/png": "[encoded data removed]",
      "text/plain": [
       "<Figure size 432x288 with 1 Axes>"
      ]
     },
     "metadata": {
      "needs_background": "light"
     },
     "output_type": "display_data"
    }
   ],
   "source": [
    "colors = [\"#00ff00\", \"red\"]\n",
    "\n",
    "sns.countplot('Class', data=data, palette=colors)\n",
    "plt.title('Class Distributions \\n (0: No Fraud || 1: Fraud)', fontsize=14)"
   ]
  },
  {
   "cell_type": "code",
   "execution_count": 13,
   "metadata": {},
   "outputs": [
    {
     "name": "stdout",
     "output_type": "stream",
     "text": [
      "492\n",
      "284315\n",
      "(284807, 31)\n"
     ]
    }
   ],
   "source": [
    "fraud_indices= np.array(data[data.Class==1].index)\n",
    "normal_indices = np.array(data[data.Class==0].index)\n",
    "print(len(fraud_indices))\n",
    "print(len(normal_indices ))\n",
    "print(data.shape)"
   ]
  },
  {
   "cell_type": "code",
   "execution_count": 14,
   "metadata": {},
   "outputs": [
    {
     "data": {
      "text/plain": [
       "<matplotlib.axes._subplots.AxesSubplot at 0x1a202ebb00>"
      ]
     },
     "execution_count": 14,
     "metadata": {},
     "output_type": "execute_result"
    },
    {
     "data": {
      "image/png": "[encoded data removed]",
      "text/plain": [
       "<Figure size 720x432 with 2 Axes>"
      ]
     },
     "metadata": {
      "needs_background": "light"
     },
     "output_type": "display_data"
    }
   ],
   "source": [
    "# visualize the data more\n",
    "# amount feature is expected to be important lets look at its distribution\n",
    "Fraud_transacation = data[data[\"Class\"]==1]\n",
    "Normal_transacation= data[data[\"Class\"]==0]\n",
    "plt.figure(figsize=(10,6))\n",
    "plt.subplot(121)\n",
    "Fraud_transacation.Amount.plot.hist(title=\"Fraud Transacation\")\n",
    "plt.subplot(122)\n",
    "Normal_transacation.Amount.plot.hist(title=\"Normal Transaction\")"
   ]
  },
  {
   "cell_type": "code",
   "execution_count": 15,
   "metadata": {},
   "outputs": [
    {
     "data": {
      "text/plain": [
       "<matplotlib.axes._subplots.AxesSubplot at 0x1a22ae2cf8>"
      ]
     },
     "execution_count": 15,
     "metadata": {},
     "output_type": "execute_result"
    },
    {
     "data": {
      "image/png": "[encoded data removed]",
      "text/plain": [
       "<Figure size 720x432 with 2 Axes>"
      ]
     },
     "metadata": {
      "needs_background": "light"
     },
     "output_type": "display_data"
    }
   ],
   "source": [
    "# the distribution for Normal transction is not clear and it seems that all transaction are less than 2.5 K\n",
    "# So plot graph for same \n",
    "Fraud_transacation = data[data[\"Class\"]==1]\n",
    "Normal_transacation= data[data[\"Class\"]==0]\n",
    "plt.figure(figsize=(10,6))\n",
    "plt.subplot(121)\n",
    "Fraud_transacation[Fraud_transacation[\"Amount\"]<= 2500].Amount.plot.hist(title=\"Fraud Tranascation\")\n",
    "plt.subplot(122)\n",
    "Normal_transacation[Normal_transacation[\"Amount\"]<=2500].Amount.plot.hist(title=\"Normal Transaction\")"
   ]
  },
  {
   "cell_type": "code",
   "execution_count": 16,
   "metadata": {},
   "outputs": [
    {
     "data": {
      "text/html": [
       "<div>\n",
       "<style scoped>\n",
       "    .dataframe tbody tr th:only-of-type {\n",
       "        vertical-align: middle;\n",
       "    }\n",
       "\n",
       "    .dataframe tbody tr th {\n",
       "        vertical-align: top;\n",
       "    }\n",
       "\n",
       "    .dataframe thead th {\n",
       "        text-align: right;\n",
       "    }\n",
       "</style>\n",
       "<table border=\"1\" class=\"dataframe\">\n",
       "  <thead>\n",
       "    <tr style=\"text-align: right;\">\n",
       "      <th></th>\n",
       "      <th>V1</th>\n",
       "      <th>V2</th>\n",
       "      <th>V3</th>\n",
       "      <th>V4</th>\n",
       "      <th>V5</th>\n",
       "      <th>V6</th>\n",
       "      <th>V7</th>\n",
       "      <th>V8</th>\n",
       "      <th>V9</th>\n",
       "      <th>V10</th>\n",
       "      <th>...</th>\n",
       "      <th>V22</th>\n",
       "      <th>V23</th>\n",
       "      <th>V24</th>\n",
       "      <th>V25</th>\n",
       "      <th>V26</th>\n",
       "      <th>V27</th>\n",
       "      <th>V28</th>\n",
       "      <th>Class</th>\n",
       "      <th>Scaled Amount</th>\n",
       "      <th>Scaled Time</th>\n",
       "    </tr>\n",
       "  </thead>\n",
       "  <tbody>\n",
       "    <tr>\n",
       "      <th>0</th>\n",
       "      <td>-1.359807</td>\n",
       "      <td>-0.072781</td>\n",
       "      <td>2.536347</td>\n",
       "      <td>1.378155</td>\n",
       "      <td>-0.338321</td>\n",
       "      <td>0.462388</td>\n",
       "      <td>0.239599</td>\n",
       "      <td>0.098698</td>\n",
       "      <td>0.363787</td>\n",
       "      <td>0.090794</td>\n",
       "      <td>...</td>\n",
       "      <td>0.277838</td>\n",
       "      <td>-0.110474</td>\n",
       "      <td>0.066928</td>\n",
       "      <td>0.128539</td>\n",
       "      <td>-0.189115</td>\n",
       "      <td>0.133558</td>\n",
       "      <td>-0.021053</td>\n",
       "      <td>0</td>\n",
       "      <td>0.244964</td>\n",
       "      <td>-1.996583</td>\n",
       "    </tr>\n",
       "    <tr>\n",
       "      <th>1</th>\n",
       "      <td>1.191857</td>\n",
       "      <td>0.266151</td>\n",
       "      <td>0.166480</td>\n",
       "      <td>0.448154</td>\n",
       "      <td>0.060018</td>\n",
       "      <td>-0.082361</td>\n",
       "      <td>-0.078803</td>\n",
       "      <td>0.085102</td>\n",
       "      <td>-0.255425</td>\n",
       "      <td>-0.166974</td>\n",
       "      <td>...</td>\n",
       "      <td>-0.638672</td>\n",
       "      <td>0.101288</td>\n",
       "      <td>-0.339846</td>\n",
       "      <td>0.167170</td>\n",
       "      <td>0.125895</td>\n",
       "      <td>-0.008983</td>\n",
       "      <td>0.014724</td>\n",
       "      <td>0</td>\n",
       "      <td>-0.342475</td>\n",
       "      <td>-1.996583</td>\n",
       "    </tr>\n",
       "    <tr>\n",
       "      <th>2</th>\n",
       "      <td>-1.358354</td>\n",
       "      <td>-1.340163</td>\n",
       "      <td>1.773209</td>\n",
       "      <td>0.379780</td>\n",
       "      <td>-0.503198</td>\n",
       "      <td>1.800499</td>\n",
       "      <td>0.791461</td>\n",
       "      <td>0.247676</td>\n",
       "      <td>-1.514654</td>\n",
       "      <td>0.207643</td>\n",
       "      <td>...</td>\n",
       "      <td>0.771679</td>\n",
       "      <td>0.909412</td>\n",
       "      <td>-0.689281</td>\n",
       "      <td>-0.327642</td>\n",
       "      <td>-0.139097</td>\n",
       "      <td>-0.055353</td>\n",
       "      <td>-0.059752</td>\n",
       "      <td>0</td>\n",
       "      <td>1.160686</td>\n",
       "      <td>-1.996562</td>\n",
       "    </tr>\n",
       "    <tr>\n",
       "      <th>3</th>\n",
       "      <td>-0.966272</td>\n",
       "      <td>-0.185226</td>\n",
       "      <td>1.792993</td>\n",
       "      <td>-0.863291</td>\n",
       "      <td>-0.010309</td>\n",
       "      <td>1.247203</td>\n",
       "      <td>0.237609</td>\n",
       "      <td>0.377436</td>\n",
       "      <td>-1.387024</td>\n",
       "      <td>-0.054952</td>\n",
       "      <td>...</td>\n",
       "      <td>0.005274</td>\n",
       "      <td>-0.190321</td>\n",
       "      <td>-1.175575</td>\n",
       "      <td>0.647376</td>\n",
       "      <td>-0.221929</td>\n",
       "      <td>0.062723</td>\n",
       "      <td>0.061458</td>\n",
       "      <td>0</td>\n",
       "      <td>0.140534</td>\n",
       "      <td>-1.996562</td>\n",
       "    </tr>\n",
       "    <tr>\n",
       "      <th>4</th>\n",
       "      <td>-1.158233</td>\n",
       "      <td>0.877737</td>\n",
       "      <td>1.548718</td>\n",
       "      <td>0.403034</td>\n",
       "      <td>-0.407193</td>\n",
       "      <td>0.095921</td>\n",
       "      <td>0.592941</td>\n",
       "      <td>-0.270533</td>\n",
       "      <td>0.817739</td>\n",
       "      <td>0.753074</td>\n",
       "      <td>...</td>\n",
       "      <td>0.798278</td>\n",
       "      <td>-0.137458</td>\n",
       "      <td>0.141267</td>\n",
       "      <td>-0.206010</td>\n",
       "      <td>0.502292</td>\n",
       "      <td>0.219422</td>\n",
       "      <td>0.215153</td>\n",
       "      <td>0</td>\n",
       "      <td>-0.073403</td>\n",
       "      <td>-1.996541</td>\n",
       "    </tr>\n",
       "  </tbody>\n",
       "</table>\n",
       "<p>5 rows × 31 columns</p>\n",
       "</div>"
      ],
      "text/plain": [
       "         V1        V2        V3        V4        V5        V6        V7  \\\n",
       "0 -1.359807 -0.072781  2.536347  1.378155 -0.338321  0.462388  0.239599   \n",
       "1  1.191857  0.266151  0.166480  0.448154  0.060018 -0.082361 -0.078803   \n",
       "2 -1.358354 -1.340163  1.773209  0.379780 -0.503198  1.800499  0.791461   \n",
       "3 -0.966272 -0.185226  1.792993 -0.863291 -0.010309  1.247203  0.237609   \n",
       "4 -1.158233  0.877737  1.548718  0.403034 -0.407193  0.095921  0.592941   \n",
       "\n",
       "         V8        V9       V10     ...            V22       V23       V24  \\\n",
       "0  0.098698  0.363787  0.090794     ...       0.277838 -0.110474  0.066928   \n",
       "1  0.085102 -0.255425 -0.166974     ...      -0.638672  0.101288 -0.339846   \n",
       "2  0.247676 -1.514654  0.207643     ...       0.771679  0.909412 -0.689281   \n",
       "3  0.377436 -1.387024 -0.054952     ...       0.005274 -0.190321 -1.175575   \n",
       "4 -0.270533  0.817739  0.753074     ...       0.798278 -0.137458  0.141267   \n",
       "\n",
       "        V25       V26       V27       V28  Class  Scaled Amount  Scaled Time  \n",
       "0  0.128539 -0.189115  0.133558 -0.021053      0       0.244964    -1.996583  \n",
       "1  0.167170  0.125895 -0.008983  0.014724      0      -0.342475    -1.996583  \n",
       "2 -0.327642 -0.139097 -0.055353 -0.059752      0       1.160686    -1.996562  \n",
       "3  0.647376 -0.221929  0.062723  0.061458      0       0.140534    -1.996562  \n",
       "4 -0.206010  0.502292  0.219422  0.215153      0      -0.073403    -1.996541  \n",
       "\n",
       "[5 rows x 31 columns]"
      ]
     },
     "execution_count": 16,
     "metadata": {},
     "output_type": "execute_result"
    }
   ],
   "source": [
    "# lets scale amount and time features\n",
    "from sklearn.preprocessing import StandardScaler\n",
    "data[\"Scaled Amount\"] = StandardScaler().fit_transform(np.array(data['Amount']).reshape(-1, 1))\n",
    "data[\"Scaled Time\"] = StandardScaler().fit_transform(np.array(data['Time']).reshape(-1, 1))\n",
    "data.drop([\"Time\",\"Amount\"],axis=1,inplace=True)\n",
    "data.head()"
   ]
  },
  {
   "cell_type": "code",
   "execution_count": 17,
   "metadata": {},
   "outputs": [],
   "source": [
    "# since the data is umbalanced we can not train the models on it becuase it will overfit and the model will misjudge\n",
    "# classes as all non fraud. also this unbalanced data will cause wrong correlaltion between features and classes\n",
    "# we use the sub-sample technique (both under and over sampling) to train the models and test\n",
    "#them on the original data\n"
   ]
  },
  {
   "cell_type": "markdown",
   "metadata": {},
   "source": [
    "## using under-sampling"
   ]
  },
  {
   "cell_type": "code",
   "execution_count": 18,
   "metadata": {},
   "outputs": [
    {
     "name": "stdout",
     "output_type": "stream",
     "text": [
      "(984, 31)\n",
      "(1476, 31)\n",
      "(1968, 31)\n"
     ]
    }
   ],
   "source": [
    "# under sampling we use the mojority of 0 class and same sizes of 1 class proportions\n",
    "# lets create three different proportions that we will use for training models\n",
    "#count  indices in both 0 and 1 classes\n",
    "fraud_indices= np.array(data[data.Class==1].index)\n",
    "normal_indices = np.array(data[data.Class==0].index)\n",
    "# get the datapoints for each class\n",
    "Fraud_transaction = data[data[\"Class\"]==1]\n",
    "Normal_transaction= data[data[\"Class\"]==0]\n",
    "Count_Normal_transaction = len(data[data[\"Class\"]==0]) # normal transaction are repersented by 0\n",
    "Count_Fraud_transaction = len(data[data[\"Class\"]==1]) # fraud by 1\n",
    "under_samples =[0,0,0]\n",
    "for i in range(1,4):\n",
    "    \n",
    "    Normal_indices_undersample = np.array(np.random.choice(normal_indices,\n",
    "                                                            (i*Count_Fraud_transaction),replace=False))\n",
    "    undersample_data= np.concatenate([fraud_indices,Normal_indices_undersample])\n",
    "    undersample_data = data.iloc[undersample_data,:]\n",
    "    under_samples[i-1] = undersample_data\n",
    "    print(under_samples[i-1].shape)\n",
    "  "
   ]
  },
  {
   "cell_type": "code",
   "execution_count": 19,
   "metadata": {},
   "outputs": [],
   "source": [
    "#  a function that will be invoked when we want split each smaple data into train and test sets\n",
    "from sklearn.model_selection import train_test_split # to split the data\n",
    "def data_split(d): # preparing data for training and testing as we are going to use different data \n",
    "    x_features = d.drop('Class',axis=1)\n",
    "    x_labels  = d['Class']\n",
    "    x_features_train,x_features_test,x_labels_train,x_labels_test = train_test_split(x_features,x_labels,test_size=0.3)\n",
    "    print(\"length of training data\")\n",
    "    print(len(x_features_train))\n",
    "    print(\"length of test data\")\n",
    "    print(len(x_features_test))\n",
    "    return(x_features_train,x_features_test,x_labels_train,x_labels_test)\n"
   ]
  },
  {
   "cell_type": "code",
   "execution_count": 20,
   "metadata": {},
   "outputs": [],
   "source": [
    "# a function to be invoked when we train each model on each sample data\n",
    "def model(model,features_train,features_test,labels_train,labels_test):\n",
    "    clf= model\n",
    "    clf.fit(features_train,labels_train.values.ravel())\n",
    "    pred=clf.predict(features_test)\n",
    "    cnf_matrix=confusion_matrix(labels_test,pred)\n",
    "    print(\"the recall for this model is :\",cnf_matrix[1,1]/(cnf_matrix[1,1]+cnf_matrix[1,0]))\n",
    "    fig= plt.figure(figsize=(6,3))# to plot the graph\n",
    "    print(\"TP\",cnf_matrix[1,1,]) # no of fraud transaction which are predicted fraud\n",
    "    print(\"TN\",cnf_matrix[0,0]) # no. of normal transaction which are predited normal\n",
    "    print(\"FP\",cnf_matrix[0,1]) # no of normal transaction which are predicted fraud\n",
    "    print(\"FN\",cnf_matrix[1,0]) # no of fraud Transaction which are predicted normal\n",
    "    sns.heatmap(cnf_matrix,cmap=\"coolwarm_r\",annot=True,linewidths=0.5)\n",
    "    plt.title(\"Confusion_matrix\")\n",
    "    plt.xlabel(\"Predicted_class\")\n",
    "    plt.ylabel(\"Real class\")\n",
    "    plt.show()\n",
    "    print(\"\\n----------Classification Report------------------------------------\")\n",
    "    print(classification_report(labels_test,pred))"
   ]
  },
  {
   "cell_type": "code",
   "execution_count": 21,
   "metadata": {},
   "outputs": [],
   "source": [
    "# take final look at the data we have"
   ]
  },
  {
   "cell_type": "code",
   "execution_count": 22,
   "metadata": {},
   "outputs": [
    {
     "name": "stdout",
     "output_type": "stream",
     "text": [
      "original data\n",
      "(284807, 31)\n"
     ]
    },
    {
     "data": {
      "text/html": [
       "<div>\n",
       "<style scoped>\n",
       "    .dataframe tbody tr th:only-of-type {\n",
       "        vertical-align: middle;\n",
       "    }\n",
       "\n",
       "    .dataframe tbody tr th {\n",
       "        vertical-align: top;\n",
       "    }\n",
       "\n",
       "    .dataframe thead th {\n",
       "        text-align: right;\n",
       "    }\n",
       "</style>\n",
       "<table border=\"1\" class=\"dataframe\">\n",
       "  <thead>\n",
       "    <tr style=\"text-align: right;\">\n",
       "      <th></th>\n",
       "      <th>V1</th>\n",
       "      <th>V2</th>\n",
       "      <th>V3</th>\n",
       "      <th>V4</th>\n",
       "      <th>V5</th>\n",
       "      <th>V6</th>\n",
       "      <th>V7</th>\n",
       "      <th>V8</th>\n",
       "      <th>V9</th>\n",
       "      <th>V10</th>\n",
       "      <th>...</th>\n",
       "      <th>V22</th>\n",
       "      <th>V23</th>\n",
       "      <th>V24</th>\n",
       "      <th>V25</th>\n",
       "      <th>V26</th>\n",
       "      <th>V27</th>\n",
       "      <th>V28</th>\n",
       "      <th>Class</th>\n",
       "      <th>Scaled Amount</th>\n",
       "      <th>Scaled Time</th>\n",
       "    </tr>\n",
       "  </thead>\n",
       "  <tbody>\n",
       "    <tr>\n",
       "      <th>0</th>\n",
       "      <td>-1.359807</td>\n",
       "      <td>-0.072781</td>\n",
       "      <td>2.536347</td>\n",
       "      <td>1.378155</td>\n",
       "      <td>-0.338321</td>\n",
       "      <td>0.462388</td>\n",
       "      <td>0.239599</td>\n",
       "      <td>0.098698</td>\n",
       "      <td>0.363787</td>\n",
       "      <td>0.090794</td>\n",
       "      <td>...</td>\n",
       "      <td>0.277838</td>\n",
       "      <td>-0.110474</td>\n",
       "      <td>0.066928</td>\n",
       "      <td>0.128539</td>\n",
       "      <td>-0.189115</td>\n",
       "      <td>0.133558</td>\n",
       "      <td>-0.021053</td>\n",
       "      <td>0</td>\n",
       "      <td>0.244964</td>\n",
       "      <td>-1.996583</td>\n",
       "    </tr>\n",
       "    <tr>\n",
       "      <th>1</th>\n",
       "      <td>1.191857</td>\n",
       "      <td>0.266151</td>\n",
       "      <td>0.166480</td>\n",
       "      <td>0.448154</td>\n",
       "      <td>0.060018</td>\n",
       "      <td>-0.082361</td>\n",
       "      <td>-0.078803</td>\n",
       "      <td>0.085102</td>\n",
       "      <td>-0.255425</td>\n",
       "      <td>-0.166974</td>\n",
       "      <td>...</td>\n",
       "      <td>-0.638672</td>\n",
       "      <td>0.101288</td>\n",
       "      <td>-0.339846</td>\n",
       "      <td>0.167170</td>\n",
       "      <td>0.125895</td>\n",
       "      <td>-0.008983</td>\n",
       "      <td>0.014724</td>\n",
       "      <td>0</td>\n",
       "      <td>-0.342475</td>\n",
       "      <td>-1.996583</td>\n",
       "    </tr>\n",
       "    <tr>\n",
       "      <th>2</th>\n",
       "      <td>-1.358354</td>\n",
       "      <td>-1.340163</td>\n",
       "      <td>1.773209</td>\n",
       "      <td>0.379780</td>\n",
       "      <td>-0.503198</td>\n",
       "      <td>1.800499</td>\n",
       "      <td>0.791461</td>\n",
       "      <td>0.247676</td>\n",
       "      <td>-1.514654</td>\n",
       "      <td>0.207643</td>\n",
       "      <td>...</td>\n",
       "      <td>0.771679</td>\n",
       "      <td>0.909412</td>\n",
       "      <td>-0.689281</td>\n",
       "      <td>-0.327642</td>\n",
       "      <td>-0.139097</td>\n",
       "      <td>-0.055353</td>\n",
       "      <td>-0.059752</td>\n",
       "      <td>0</td>\n",
       "      <td>1.160686</td>\n",
       "      <td>-1.996562</td>\n",
       "    </tr>\n",
       "    <tr>\n",
       "      <th>3</th>\n",
       "      <td>-0.966272</td>\n",
       "      <td>-0.185226</td>\n",
       "      <td>1.792993</td>\n",
       "      <td>-0.863291</td>\n",
       "      <td>-0.010309</td>\n",
       "      <td>1.247203</td>\n",
       "      <td>0.237609</td>\n",
       "      <td>0.377436</td>\n",
       "      <td>-1.387024</td>\n",
       "      <td>-0.054952</td>\n",
       "      <td>...</td>\n",
       "      <td>0.005274</td>\n",
       "      <td>-0.190321</td>\n",
       "      <td>-1.175575</td>\n",
       "      <td>0.647376</td>\n",
       "      <td>-0.221929</td>\n",
       "      <td>0.062723</td>\n",
       "      <td>0.061458</td>\n",
       "      <td>0</td>\n",
       "      <td>0.140534</td>\n",
       "      <td>-1.996562</td>\n",
       "    </tr>\n",
       "    <tr>\n",
       "      <th>4</th>\n",
       "      <td>-1.158233</td>\n",
       "      <td>0.877737</td>\n",
       "      <td>1.548718</td>\n",
       "      <td>0.403034</td>\n",
       "      <td>-0.407193</td>\n",
       "      <td>0.095921</td>\n",
       "      <td>0.592941</td>\n",
       "      <td>-0.270533</td>\n",
       "      <td>0.817739</td>\n",
       "      <td>0.753074</td>\n",
       "      <td>...</td>\n",
       "      <td>0.798278</td>\n",
       "      <td>-0.137458</td>\n",
       "      <td>0.141267</td>\n",
       "      <td>-0.206010</td>\n",
       "      <td>0.502292</td>\n",
       "      <td>0.219422</td>\n",
       "      <td>0.215153</td>\n",
       "      <td>0</td>\n",
       "      <td>-0.073403</td>\n",
       "      <td>-1.996541</td>\n",
       "    </tr>\n",
       "  </tbody>\n",
       "</table>\n",
       "<p>5 rows × 31 columns</p>\n",
       "</div>"
      ],
      "text/plain": [
       "         V1        V2        V3        V4        V5        V6        V7  \\\n",
       "0 -1.359807 -0.072781  2.536347  1.378155 -0.338321  0.462388  0.239599   \n",
       "1  1.191857  0.266151  0.166480  0.448154  0.060018 -0.082361 -0.078803   \n",
       "2 -1.358354 -1.340163  1.773209  0.379780 -0.503198  1.800499  0.791461   \n",
       "3 -0.966272 -0.185226  1.792993 -0.863291 -0.010309  1.247203  0.237609   \n",
       "4 -1.158233  0.877737  1.548718  0.403034 -0.407193  0.095921  0.592941   \n",
       "\n",
       "         V8        V9       V10     ...            V22       V23       V24  \\\n",
       "0  0.098698  0.363787  0.090794     ...       0.277838 -0.110474  0.066928   \n",
       "1  0.085102 -0.255425 -0.166974     ...      -0.638672  0.101288 -0.339846   \n",
       "2  0.247676 -1.514654  0.207643     ...       0.771679  0.909412 -0.689281   \n",
       "3  0.377436 -1.387024 -0.054952     ...       0.005274 -0.190321 -1.175575   \n",
       "4 -0.270533  0.817739  0.753074     ...       0.798278 -0.137458  0.141267   \n",
       "\n",
       "        V25       V26       V27       V28  Class  Scaled Amount  Scaled Time  \n",
       "0  0.128539 -0.189115  0.133558 -0.021053      0       0.244964    -1.996583  \n",
       "1  0.167170  0.125895 -0.008983  0.014724      0      -0.342475    -1.996583  \n",
       "2 -0.327642 -0.139097 -0.055353 -0.059752      0       1.160686    -1.996562  \n",
       "3  0.647376 -0.221929  0.062723  0.061458      0       0.140534    -1.996562  \n",
       "4 -0.206010  0.502292  0.219422  0.215153      0      -0.073403    -1.996541  \n",
       "\n",
       "[5 rows x 31 columns]"
      ]
     },
     "execution_count": 22,
     "metadata": {},
     "output_type": "execute_result"
    }
   ],
   "source": [
    "print('original data')\n",
    "print(data.shape)\n",
    "data.head()\n"
   ]
  },
  {
   "cell_type": "code",
   "execution_count": 23,
   "metadata": {},
   "outputs": [
    {
     "name": "stdout",
     "output_type": "stream",
     "text": [
      "proportion 1\n",
      "length of training data\n",
      "688\n",
      "length of test data\n",
      "296\n",
      "proportion 2\n",
      "length of training data\n",
      "1033\n",
      "length of test data\n",
      "443\n",
      "proportion 3\n",
      "length of training data\n",
      "1377\n",
      "length of test data\n",
      "591\n"
     ]
    }
   ],
   "source": [
    "# the under sampled data\n",
    "for i in range(3):\n",
    "    print('proportion',i+1)\n",
    "    data_split(under_samples[i])\n"
   ]
  },
  {
   "cell_type": "code",
   "execution_count": null,
   "metadata": {},
   "outputs": [],
   "source": []
  },
  {
   "cell_type": "code",
   "execution_count": null,
   "metadata": {},
   "outputs": [],
   "source": [
    "\n",
    "    "
   ]
  },
  {
   "cell_type": "code",
   "execution_count": null,
   "metadata": {},
   "outputs": [],
   "source": []
  },
  {
   "cell_type": "markdown",
   "metadata": {},
   "source": [
    " # Building models¶"
   ]
  },
  {
   "cell_type": "code",
   "execution_count": 24,
   "metadata": {},
   "outputs": [],
   "source": [
    "from sklearn.linear_model import LogisticRegression\n",
    "from sklearn.ensemble import RandomForestClassifier\n",
    "from sklearn.linear_model import SGDClassifier\n",
    "from sklearn.tree import DecisionTreeClassifier\n",
    "from sklearn.neighbors import KNeighborsClassifier\n",
    "from sklearn.svm import SVC, LinearSVC\n",
    "from sklearn.model_selection import cross_val_predict\n",
    "from sklearn.metrics import confusion_matrix\n",
    "from sklearn.metrics import confusion_matrix,recall_score,precision_recall_curve,auc,roc_curve,roc_auc_score,classification_report"
   ]
  },
  {
   "cell_type": "markdown",
   "metadata": {},
   "source": [
    "## Logistic Regression with Undersample Data\n"
   ]
  },
  {
   "cell_type": "code",
   "execution_count": 25,
   "metadata": {},
   "outputs": [
    {
     "name": "stdout",
     "output_type": "stream",
     "text": [
      " PROPORTION 1\n",
      "\n",
      "length of training data\n",
      "688\n",
      "length of test data\n",
      "296\n",
      "the recall for this model is : 0.8835616438356164\n",
      "TP 129\n",
      "TN 146\n",
      "FP 4\n",
      "FN 17\n"
     ]
    },
    {
     "data": {
      "image/png": "[encoded data removed]",
      "text/plain": [
       "<Figure size 432x216 with 2 Axes>"
      ]
     },
     "metadata": {
      "needs_background": "light"
     },
     "output_type": "display_data"
    },
    {
     "name": "stdout",
     "output_type": "stream",
     "text": [
      "\n",
      "----------Classification Report------------------------------------\n",
      "              precision    recall  f1-score   support\n",
      "\n",
      "           0       0.90      0.97      0.93       150\n",
      "           1       0.97      0.88      0.92       146\n",
      "\n",
      "   micro avg       0.93      0.93      0.93       296\n",
      "   macro avg       0.93      0.93      0.93       296\n",
      "weighted avg       0.93      0.93      0.93       296\n",
      "\n",
      "________________________________________________________________________________________________________\n",
      " PROPORTION 2\n",
      "\n",
      "length of training data\n",
      "1033\n",
      "length of test data\n",
      "443\n",
      "the recall for this model is : 0.8680555555555556\n",
      "TP 125\n",
      "TN 295\n",
      "FP 4\n",
      "FN 19\n"
     ]
    },
    {
     "data": {
      "image/png": "[encoded data removed]",
      "text/plain": [
       "<Figure size 432x216 with 2 Axes>"
      ]
     },
     "metadata": {
      "needs_background": "light"
     },
     "output_type": "display_data"
    },
    {
     "name": "stdout",
     "output_type": "stream",
     "text": [
      "\n",
      "----------Classification Report------------------------------------\n",
      "              precision    recall  f1-score   support\n",
      "\n",
      "           0       0.94      0.99      0.96       299\n",
      "           1       0.97      0.87      0.92       144\n",
      "\n",
      "   micro avg       0.95      0.95      0.95       443\n",
      "   macro avg       0.95      0.93      0.94       443\n",
      "weighted avg       0.95      0.95      0.95       443\n",
      "\n",
      "________________________________________________________________________________________________________\n",
      " PROPORTION 3\n",
      "\n",
      "length of training data\n",
      "1377\n",
      "length of test data\n",
      "591\n",
      "the recall for this model is : 0.8723404255319149\n",
      "TP 123\n",
      "TN 445\n",
      "FP 5\n",
      "FN 18\n"
     ]
    },
    {
     "data": {
      "image/png": "[encoded data removed]",
      "text/plain": [
       "<Figure size 432x216 with 2 Axes>"
      ]
     },
     "metadata": {
      "needs_background": "light"
     },
     "output_type": "display_data"
    },
    {
     "name": "stdout",
     "output_type": "stream",
     "text": [
      "\n",
      "----------Classification Report------------------------------------\n",
      "              precision    recall  f1-score   support\n",
      "\n",
      "           0       0.96      0.99      0.97       450\n",
      "           1       0.96      0.87      0.91       141\n",
      "\n",
      "   micro avg       0.96      0.96      0.96       591\n",
      "   macro avg       0.96      0.93      0.94       591\n",
      "weighted avg       0.96      0.96      0.96       591\n",
      "\n",
      "________________________________________________________________________________________________________\n"
     ]
    }
   ],
   "source": [
    "for i in range(3):  \n",
    "    print(' PROPORTION', i+1 )\n",
    "    print()\n",
    "    clf=LogisticRegression(solver='lbfgs')\n",
    "    undersample_features_train,undersample_features_test,undersample_labels_train,\\\n",
    "    undersample_labels_test=data_split(under_samples[i])\n",
    "    model(clf,undersample_features_train,undersample_features_test,\\\n",
    "          undersample_labels_train,undersample_labels_test)\n",
    "    print(\"________________________________________________________________________________________________________\")"
   ]
  },
  {
   "cell_type": "code",
   "execution_count": 26,
   "metadata": {},
   "outputs": [],
   "source": [
    " # from data above As the number of normal transaction is increasing the recall for fraud transcation is decreasing\n",
    "#TP = no of fraud transaction which are predicted fraud\n",
    "#TN = no. of normal transaction which are predicted normal\n",
    "#FP = no of normal transaction which are predicted fraud\n",
    "#FN =no of fraud Transaction which are predicted normal \n",
    "        \n",
    "        "
   ]
  },
  {
   "cell_type": "code",
   "execution_count": 27,
   "metadata": {},
   "outputs": [
    {
     "name": "stdout",
     "output_type": "stream",
     "text": [
      " PROPORTION 1\n",
      "\n",
      "length of training data\n",
      "688\n",
      "length of test data\n",
      "296\n",
      "length of training data\n",
      "199364\n",
      "length of test data\n",
      "85443\n",
      "the recall for this model is : 0.8866666666666667\n",
      "TP 133\n",
      "TN 82980\n",
      "FP 2313\n",
      "FN 17\n"
     ]
    },
    {
     "data": {
      "image/png": "[encoded data removed]",
      "text/plain": [
       "<Figure size 432x216 with 2 Axes>"
      ]
     },
     "metadata": {
      "needs_background": "light"
     },
     "output_type": "display_data"
    },
    {
     "name": "stdout",
     "output_type": "stream",
     "text": [
      "\n",
      "----------Classification Report------------------------------------\n",
      "              precision    recall  f1-score   support\n",
      "\n",
      "           0       1.00      0.97      0.99     85293\n",
      "           1       0.05      0.89      0.10       150\n",
      "\n",
      "   micro avg       0.97      0.97      0.97     85443\n",
      "   macro avg       0.53      0.93      0.54     85443\n",
      "weighted avg       1.00      0.97      0.98     85443\n",
      "\n",
      "________________________________________________________________________________________________________\n",
      " PROPORTION 2\n",
      "\n",
      "length of training data\n",
      "1033\n",
      "length of test data\n",
      "443\n",
      "length of training data\n",
      "199364\n",
      "length of test data\n",
      "85443\n",
      "the recall for this model is : 0.9\n",
      "TP 144\n",
      "TN 84010\n",
      "FP 1273\n",
      "FN 16\n"
     ]
    },
    {
     "data": {
      "image/png": "[encoded data removed]",
      "text/plain": [
       "<Figure size 432x216 with 2 Axes>"
      ]
     },
     "metadata": {
      "needs_background": "light"
     },
     "output_type": "display_data"
    },
    {
     "name": "stdout",
     "output_type": "stream",
     "text": [
      "\n",
      "----------Classification Report------------------------------------\n",
      "              precision    recall  f1-score   support\n",
      "\n",
      "           0       1.00      0.99      0.99     85283\n",
      "           1       0.10      0.90      0.18       160\n",
      "\n",
      "   micro avg       0.98      0.98      0.98     85443\n",
      "   macro avg       0.55      0.94      0.59     85443\n",
      "weighted avg       1.00      0.98      0.99     85443\n",
      "\n",
      "________________________________________________________________________________________________________\n",
      " PROPORTION 3\n",
      "\n",
      "length of training data\n",
      "1377\n",
      "length of test data\n",
      "591\n",
      "length of training data\n",
      "199364\n",
      "length of test data\n",
      "85443\n",
      "the recall for this model is : 0.9148936170212766\n",
      "TP 129\n",
      "TN 84463\n",
      "FP 839\n",
      "FN 12\n"
     ]
    },
    {
     "data": {
      "image/png": "[encoded data removed]",
      "text/plain": [
       "<Figure size 432x216 with 2 Axes>"
      ]
     },
     "metadata": {
      "needs_background": "light"
     },
     "output_type": "display_data"
    },
    {
     "name": "stdout",
     "output_type": "stream",
     "text": [
      "\n",
      "----------Classification Report------------------------------------\n",
      "              precision    recall  f1-score   support\n",
      "\n",
      "           0       1.00      0.99      0.99     85302\n",
      "           1       0.13      0.91      0.23       141\n",
      "\n",
      "   micro avg       0.99      0.99      0.99     85443\n",
      "   macro avg       0.57      0.95      0.61     85443\n",
      "weighted avg       1.00      0.99      0.99     85443\n",
      "\n",
      "________________________________________________________________________________________________________\n"
     ]
    }
   ],
   "source": [
    "#let us train this model using undersample data and test for the whole data test set \n",
    "for i in range(3):  \n",
    "    print(' PROPORTION', i+1 )\n",
    "    print()\n",
    "    clf=LogisticRegression(solver='lbfgs')\n",
    "    undersample_features_train,undersample_features_test,undersample_labels_train\\\n",
    "    ,undersample_labels_test=data_split(under_samples[i])\n",
    "    data_features_train,data_features_test,data_labels_train,data_labels_test=data_split(data) \n",
    "    model(clf,undersample_features_train,data_features_test,undersample_labels_train,data_labels_test)\n",
    "    print(\"________________________________________________________________________________________________________\")"
   ]
  },
  {
   "cell_type": "code",
   "execution_count": 28,
   "metadata": {},
   "outputs": [],
   "source": [
    "# the recall and precision using original data are following the same in under sampled data\n",
    "# but preciiosn is low so we need a model  with good precision (high recall and low preciosn mean\n",
    "# that we are catching fraud transaction well but low precision means we are catching inocent transactions also)\n",
    "# so lets train another models"
   ]
  },
  {
   "cell_type": "markdown",
   "metadata": {},
   "source": [
    "## SVM "
   ]
  },
  {
   "cell_type": "code",
   "execution_count": 29,
   "metadata": {},
   "outputs": [
    {
     "name": "stdout",
     "output_type": "stream",
     "text": [
      " PROPORTION 1\n",
      "\n",
      "length of training data\n",
      "688\n",
      "length of test data\n",
      "296\n",
      "the recall for this model is : 0.9097222222222222\n",
      "TP 131\n",
      "TN 143\n",
      "FP 9\n",
      "FN 13\n"
     ]
    },
    {
     "data": {
      "image/png": "[encoded data removed]",
      "text/plain": [
       "<Figure size 432x216 with 2 Axes>"
      ]
     },
     "metadata": {
      "needs_background": "light"
     },
     "output_type": "display_data"
    },
    {
     "name": "stdout",
     "output_type": "stream",
     "text": [
      "\n",
      "----------Classification Report------------------------------------\n",
      "              precision    recall  f1-score   support\n",
      "\n",
      "           0       0.92      0.94      0.93       152\n",
      "           1       0.94      0.91      0.92       144\n",
      "\n",
      "   micro avg       0.93      0.93      0.93       296\n",
      "   macro avg       0.93      0.93      0.93       296\n",
      "weighted avg       0.93      0.93      0.93       296\n",
      "\n",
      "________________________________________________________________________________________________________\n",
      " PROPORTION 2\n",
      "\n",
      "length of training data\n",
      "1033\n",
      "length of test data\n",
      "443\n",
      "the recall for this model is : 0.9225352112676056\n",
      "TP 131\n",
      "TN 290\n",
      "FP 11\n",
      "FN 11\n"
     ]
    },
    {
     "data": {
      "image/png": "[encoded data removed]",
      "text/plain": [
       "<Figure size 432x216 with 2 Axes>"
      ]
     },
     "metadata": {
      "needs_background": "light"
     },
     "output_type": "display_data"
    },
    {
     "name": "stdout",
     "output_type": "stream",
     "text": [
      "\n",
      "----------Classification Report------------------------------------\n",
      "              precision    recall  f1-score   support\n",
      "\n",
      "           0       0.96      0.96      0.96       301\n",
      "           1       0.92      0.92      0.92       142\n",
      "\n",
      "   micro avg       0.95      0.95      0.95       443\n",
      "   macro avg       0.94      0.94      0.94       443\n",
      "weighted avg       0.95      0.95      0.95       443\n",
      "\n",
      "________________________________________________________________________________________________________\n",
      " PROPORTION 3\n",
      "\n",
      "length of training data\n",
      "1377\n",
      "length of test data\n",
      "591\n",
      "the recall for this model is : 0.9084507042253521\n",
      "TP 129\n",
      "TN 441\n",
      "FP 8\n",
      "FN 13\n"
     ]
    },
    {
     "data": {
      "image/png": "[encoded data removed]",
      "text/plain": [
       "<Figure size 432x216 with 2 Axes>"
      ]
     },
     "metadata": {
      "needs_background": "light"
     },
     "output_type": "display_data"
    },
    {
     "name": "stdout",
     "output_type": "stream",
     "text": [
      "\n",
      "----------Classification Report------------------------------------\n",
      "              precision    recall  f1-score   support\n",
      "\n",
      "           0       0.97      0.98      0.98       449\n",
      "           1       0.94      0.91      0.92       142\n",
      "\n",
      "   micro avg       0.96      0.96      0.96       591\n",
      "   macro avg       0.96      0.95      0.95       591\n",
      "weighted avg       0.96      0.96      0.96       591\n",
      "\n",
      "________________________________________________________________________________________________________\n"
     ]
    }
   ],
   "source": [
    "for i in range(3):  \n",
    "    print(' PROPORTION', i+1 )\n",
    "    print()\n",
    "    clf=SVC(gamma='auto')\n",
    "    undersample_features_train,undersample_features_test,undersample_labels_train,\\\n",
    "    undersample_labels_test=data_split(under_samples[i])\n",
    "    model(clf,undersample_features_train,undersample_features_test,\\\n",
    "          undersample_labels_train,undersample_labels_test)\n",
    "    print(\"________________________________________________________________________________________________________\")"
   ]
  },
  {
   "cell_type": "code",
   "execution_count": 30,
   "metadata": {
    "scrolled": true
   },
   "outputs": [
    {
     "name": "stdout",
     "output_type": "stream",
     "text": [
      " PROPORTION 1\n",
      "\n",
      "length of training data\n",
      "688\n",
      "length of test data\n",
      "296\n",
      "length of training data\n",
      "199364\n",
      "length of test data\n",
      "85443\n",
      "the recall for this model is : 0.9612903225806452\n",
      "TP 149\n",
      "TN 80195\n",
      "FP 5093\n",
      "FN 6\n"
     ]
    },
    {
     "data": {
      "image/png": "[encoded data removed]",
      "text/plain": [
       "<Figure size 432x216 with 2 Axes>"
      ]
     },
     "metadata": {
      "needs_background": "light"
     },
     "output_type": "display_data"
    },
    {
     "name": "stdout",
     "output_type": "stream",
     "text": [
      "\n",
      "----------Classification Report------------------------------------\n",
      "              precision    recall  f1-score   support\n",
      "\n",
      "           0       1.00      0.94      0.97     85288\n",
      "           1       0.03      0.96      0.06       155\n",
      "\n",
      "   micro avg       0.94      0.94      0.94     85443\n",
      "   macro avg       0.51      0.95      0.51     85443\n",
      "weighted avg       1.00      0.94      0.97     85443\n",
      "\n",
      "________________________________________________________________________________________________________\n",
      " PROPORTION 2\n",
      "\n",
      "length of training data\n",
      "1033\n",
      "length of test data\n",
      "443\n",
      "length of training data\n",
      "199364\n",
      "length of test data\n",
      "85443\n",
      "the recall for this model is : 0.9395973154362416\n",
      "TP 140\n",
      "TN 82418\n",
      "FP 2876\n",
      "FN 9\n"
     ]
    },
    {
     "data": {
      "image/png": "[encoded data removed]",
      "text/plain": [
       "<Figure size 432x216 with 2 Axes>"
      ]
     },
     "metadata": {
      "needs_background": "light"
     },
     "output_type": "display_data"
    },
    {
     "name": "stdout",
     "output_type": "stream",
     "text": [
      "\n",
      "----------Classification Report------------------------------------\n",
      "              precision    recall  f1-score   support\n",
      "\n",
      "           0       1.00      0.97      0.98     85294\n",
      "           1       0.05      0.94      0.09       149\n",
      "\n",
      "   micro avg       0.97      0.97      0.97     85443\n",
      "   macro avg       0.52      0.95      0.54     85443\n",
      "weighted avg       1.00      0.97      0.98     85443\n",
      "\n",
      "________________________________________________________________________________________________________\n",
      " PROPORTION 3\n",
      "\n",
      "length of training data\n",
      "1377\n",
      "length of test data\n",
      "591\n",
      "length of training data\n",
      "199364\n",
      "length of test data\n",
      "85443\n",
      "the recall for this model is : 0.8924050632911392\n",
      "TP 141\n",
      "TN 83485\n",
      "FP 1800\n",
      "FN 17\n"
     ]
    },
    {
     "data": {
      "image/png": "[encoded data removed]",
      "text/plain": [
       "<Figure size 432x216 with 2 Axes>"
      ]
     },
     "metadata": {
      "needs_background": "light"
     },
     "output_type": "display_data"
    },
    {
     "name": "stdout",
     "output_type": "stream",
     "text": [
      "\n",
      "----------Classification Report------------------------------------\n",
      "              precision    recall  f1-score   support\n",
      "\n",
      "           0       1.00      0.98      0.99     85285\n",
      "           1       0.07      0.89      0.13       158\n",
      "\n",
      "   micro avg       0.98      0.98      0.98     85443\n",
      "   macro avg       0.54      0.94      0.56     85443\n",
      "weighted avg       1.00      0.98      0.99     85443\n",
      "\n",
      "________________________________________________________________________________________________________\n"
     ]
    }
   ],
   "source": [
    "# SVM precison and recall are almost same as Logistic regression\n",
    "#let us train this model using undersample data and test for the whole data test set \n",
    "for i in range(3):  \n",
    "    print(' PROPORTION', i+1 )\n",
    "    print()\n",
    "    clf=SVC(gamma='auto')\n",
    "    undersample_features_train,undersample_features_test,undersample_labels_train\\\n",
    "    ,undersample_labels_test=data_split(under_samples[i])\n",
    "    data_features_train,data_features_test,data_labels_train,data_labels_test=data_split(data) \n",
    "    model(clf,undersample_features_train,data_features_test,undersample_labels_train,data_labels_test)\n",
    "    print(\"________________________________________________________________________________________________________\")"
   ]
  },
  {
   "cell_type": "code",
   "execution_count": 31,
   "metadata": {},
   "outputs": [],
   "source": [
    "# still precison is low for SVM"
   ]
  },
  {
   "cell_type": "markdown",
   "metadata": {},
   "source": [
    "## Random Forest Classifie"
   ]
  },
  {
   "cell_type": "code",
   "execution_count": 32,
   "metadata": {},
   "outputs": [
    {
     "name": "stdout",
     "output_type": "stream",
     "text": [
      " PROPORTION 1\n",
      "\n",
      "length of training data\n",
      "688\n",
      "length of test data\n",
      "296\n",
      "the recall for this model is : 0.8866666666666667\n",
      "TP 133\n",
      "TN 140\n",
      "FP 6\n",
      "FN 17\n"
     ]
    },
    {
     "data": {
      "image/png": "[encoded data removed]",
      "text/plain": [
       "<Figure size 432x216 with 2 Axes>"
      ]
     },
     "metadata": {
      "needs_background": "light"
     },
     "output_type": "display_data"
    },
    {
     "name": "stdout",
     "output_type": "stream",
     "text": [
      "\n",
      "----------Classification Report------------------------------------\n",
      "              precision    recall  f1-score   support\n",
      "\n",
      "           0       0.89      0.96      0.92       146\n",
      "           1       0.96      0.89      0.92       150\n",
      "\n",
      "   micro avg       0.92      0.92      0.92       296\n",
      "   macro avg       0.92      0.92      0.92       296\n",
      "weighted avg       0.92      0.92      0.92       296\n",
      "\n",
      "________________________________________________________________________________________________________\n",
      " PROPORTION 2\n",
      "\n",
      "length of training data\n",
      "1033\n",
      "length of test data\n",
      "443\n",
      "the recall for this model is : 0.8543046357615894\n",
      "TP 129\n",
      "TN 291\n",
      "FP 1\n",
      "FN 22\n"
     ]
    },
    {
     "data": {
      "image/png": "[encoded data removed]",
      "text/plain": [
       "<Figure size 432x216 with 2 Axes>"
      ]
     },
     "metadata": {
      "needs_background": "light"
     },
     "output_type": "display_data"
    },
    {
     "name": "stdout",
     "output_type": "stream",
     "text": [
      "\n",
      "----------Classification Report------------------------------------\n",
      "              precision    recall  f1-score   support\n",
      "\n",
      "           0       0.93      1.00      0.96       292\n",
      "           1       0.99      0.85      0.92       151\n",
      "\n",
      "   micro avg       0.95      0.95      0.95       443\n",
      "   macro avg       0.96      0.93      0.94       443\n",
      "weighted avg       0.95      0.95      0.95       443\n",
      "\n",
      "________________________________________________________________________________________________________\n",
      " PROPORTION 3\n",
      "\n",
      "length of training data\n",
      "1377\n",
      "length of test data\n",
      "591\n",
      "the recall for this model is : 0.8545454545454545\n",
      "TP 141\n",
      "TN 426\n",
      "FP 0\n",
      "FN 24\n"
     ]
    },
    {
     "data": {
      "image/png": "[encoded data removed]",
      "text/plain": [
       "<Figure size 432x216 with 2 Axes>"
      ]
     },
     "metadata": {
      "needs_background": "light"
     },
     "output_type": "display_data"
    },
    {
     "name": "stdout",
     "output_type": "stream",
     "text": [
      "\n",
      "----------Classification Report------------------------------------\n",
      "              precision    recall  f1-score   support\n",
      "\n",
      "           0       0.95      1.00      0.97       426\n",
      "           1       1.00      0.85      0.92       165\n",
      "\n",
      "   micro avg       0.96      0.96      0.96       591\n",
      "   macro avg       0.97      0.93      0.95       591\n",
      "weighted avg       0.96      0.96      0.96       591\n",
      "\n",
      "________________________________________________________________________________________________________\n"
     ]
    }
   ],
   "source": [
    "for i in range(3):  \n",
    "    print(' PROPORTION', i+1 )\n",
    "    print()\n",
    "    clf= RandomForestClassifier(n_estimators=100)# here we are just changing classifier\n",
    "    undersample_features_train,undersample_features_test,undersample_labels_train,\\\n",
    "    undersample_labels_test=data_split(under_samples[i])\n",
    "    model(clf,undersample_features_train,undersample_features_test,\\\n",
    "          undersample_labels_train,undersample_labels_test)\n",
    "    print(\"________________________________________________________________________________________________________\")"
   ]
  },
  {
   "cell_type": "code",
   "execution_count": 33,
   "metadata": {},
   "outputs": [],
   "source": [
    "# precision improved for 3 proportions with  Random Forest Classifier"
   ]
  },
  {
   "cell_type": "code",
   "execution_count": 69,
   "metadata": {},
   "outputs": [
    {
     "name": "stdout",
     "output_type": "stream",
     "text": [
      " PROPORTION 1\n",
      "\n",
      "length of training data\n",
      "688\n",
      "length of test data\n",
      "296\n",
      "length of training data\n",
      "199364\n",
      "length of test data\n",
      "85443\n",
      "the recall for this model is : 0.9662162162162162\n",
      "TP 143\n",
      "TN 83606\n",
      "FP 1689\n",
      "FN 5\n"
     ]
    },
    {
     "data": {
      "image/png": "[encoded data removed]",
      "text/plain": [
       "<Figure size 432x216 with 2 Axes>"
      ]
     },
     "metadata": {
      "needs_background": "light"
     },
     "output_type": "display_data"
    },
    {
     "name": "stdout",
     "output_type": "stream",
     "text": [
      "\n",
      "----------Classification Report------------------------------------\n",
      "              precision    recall  f1-score   support\n",
      "\n",
      "           0       1.00      0.98      0.99     85295\n",
      "           1       0.08      0.97      0.14       148\n",
      "\n",
      "   micro avg       0.98      0.98      0.98     85443\n",
      "   macro avg       0.54      0.97      0.57     85443\n",
      "weighted avg       1.00      0.98      0.99     85443\n",
      "\n",
      "________________________________________________________________________________________________________\n",
      " PROPORTION 2\n",
      "\n",
      "length of training data\n",
      "1033\n",
      "length of test data\n",
      "443\n",
      "length of training data\n",
      "199364\n",
      "length of test data\n",
      "85443\n",
      "the recall for this model is : 0.9379310344827586\n",
      "TP 136\n",
      "TN 84598\n",
      "FP 700\n",
      "FN 9\n"
     ]
    },
    {
     "data": {
      "image/png": "[encoded data removed]",
      "text/plain": [
       "<Figure size 432x216 with 2 Axes>"
      ]
     },
     "metadata": {
      "needs_background": "light"
     },
     "output_type": "display_data"
    },
    {
     "name": "stdout",
     "output_type": "stream",
     "text": [
      "\n",
      "----------Classification Report------------------------------------\n",
      "              precision    recall  f1-score   support\n",
      "\n",
      "           0       1.00      0.99      1.00     85298\n",
      "           1       0.16      0.94      0.28       145\n",
      "\n",
      "   micro avg       0.99      0.99      0.99     85443\n",
      "   macro avg       0.58      0.96      0.64     85443\n",
      "weighted avg       1.00      0.99      0.99     85443\n",
      "\n",
      "________________________________________________________________________________________________________\n",
      " PROPORTION 3\n",
      "\n",
      "length of training data\n",
      "1377\n",
      "length of test data\n",
      "591\n",
      "length of training data\n",
      "199364\n",
      "length of test data\n",
      "85443\n",
      "the recall for this model is : 0.9724137931034482\n",
      "TP 141\n",
      "TN 84819\n",
      "FP 479\n",
      "FN 4\n"
     ]
    },
    {
     "data": {
      "image/png": "[encoded data removed]",
      "text/plain": [
       "<Figure size 432x216 with 2 Axes>"
      ]
     },
     "metadata": {
      "needs_background": "light"
     },
     "output_type": "display_data"
    },
    {
     "name": "stdout",
     "output_type": "stream",
     "text": [
      "\n",
      "----------Classification Report------------------------------------\n",
      "              precision    recall  f1-score   support\n",
      "\n",
      "           0       1.00      0.99      1.00     85298\n",
      "           1       0.23      0.97      0.37       145\n",
      "\n",
      "   micro avg       0.99      0.99      0.99     85443\n",
      "   macro avg       0.61      0.98      0.68     85443\n",
      "weighted avg       1.00      0.99      1.00     85443\n",
      "\n",
      "________________________________________________________________________________________________________\n"
     ]
    }
   ],
   "source": [
    "# \n",
    "#let us train this model using undersample data and test for the whole data test set \n",
    "for i in range(3):  \n",
    "    print(' PROPORTION', i+1 )\n",
    "    print()\n",
    "    clf= RandomForestClassifier(n_estimators=100)# here we are just changing classifier\n",
    "    undersample_features_train,undersample_features_test,undersample_labels_train\\\n",
    "    ,undersample_labels_test=data_split(under_samples[i])\n",
    "    data_features_train,data_features_test,data_labels_train,data_labels_test=data_split(data) \n",
    "    model(clf,undersample_features_train,data_features_test,undersample_labels_train,data_labels_test)\n",
    "    print(\"________________________________________________________________________________________________________\")"
   ]
  },
  {
   "cell_type": "code",
   "execution_count": 35,
   "metadata": {},
   "outputs": [],
   "source": [
    "##precision for Random Forest Classifier increased now .23 in the third part as we used real data for testing\n",
    "# but still precision is low "
   ]
  },
  {
   "cell_type": "code",
   "execution_count": 36,
   "metadata": {},
   "outputs": [
    {
     "name": "stdout",
     "output_type": "stream",
     "text": [
      "V10              0.171020\n",
      "V14              0.161435\n",
      "V17              0.117589\n",
      "V11              0.072233\n",
      "V16              0.072158\n",
      "V4               0.068980\n",
      "V12              0.052257\n",
      "V3               0.047970\n",
      "V7               0.041746\n",
      "V2               0.027026\n",
      "V18              0.023171\n",
      "V27              0.015773\n",
      "V21              0.014159\n",
      "V1               0.013125\n",
      "V9               0.009678\n",
      "Scaled Amount    0.009582\n",
      "V19              0.009132\n",
      "V20              0.007571\n",
      "V13              0.006992\n",
      "V15              0.006862\n",
      "V8               0.006631\n",
      "V22              0.005904\n",
      "V28              0.005397\n",
      "V5               0.005372\n",
      "V26              0.005211\n",
      "V6               0.005079\n",
      "V23              0.005034\n",
      "Scaled Time      0.004901\n",
      "V25              0.004011\n",
      "V24              0.004002\n",
      "dtype: float64\n"
     ]
    }
   ],
   "source": [
    "# lets use faetures that are important in dataset\n",
    "\n",
    "# this is the property of Random Forest classifier that it provides us the importance \n",
    "# of the features use\n",
    "# imoprtance is shown by values from top down and v14 is the main one\n",
    "featimp = pd.Series(clf.feature_importances_,index=data_features_train.columns).sort_values(ascending=False)\n",
    "print(featimp) "
   ]
  },
  {
   "cell_type": "code",
   "execution_count": 37,
   "metadata": {
    "scrolled": true
   },
   "outputs": [
    {
     "data": {
      "text/html": [
       "<div>\n",
       "<style scoped>\n",
       "    .dataframe tbody tr th:only-of-type {\n",
       "        vertical-align: middle;\n",
       "    }\n",
       "\n",
       "    .dataframe tbody tr th {\n",
       "        vertical-align: top;\n",
       "    }\n",
       "\n",
       "    .dataframe thead th {\n",
       "        text-align: right;\n",
       "    }\n",
       "</style>\n",
       "<table border=\"1\" class=\"dataframe\">\n",
       "  <thead>\n",
       "    <tr style=\"text-align: right;\">\n",
       "      <th></th>\n",
       "      <th>V14</th>\n",
       "      <th>V10</th>\n",
       "      <th>V12</th>\n",
       "      <th>V17</th>\n",
       "      <th>V11</th>\n",
       "      <th>Class</th>\n",
       "    </tr>\n",
       "  </thead>\n",
       "  <tbody>\n",
       "    <tr>\n",
       "      <th>0</th>\n",
       "      <td>-0.311169</td>\n",
       "      <td>0.090794</td>\n",
       "      <td>-0.617801</td>\n",
       "      <td>0.207971</td>\n",
       "      <td>-0.551600</td>\n",
       "      <td>0</td>\n",
       "    </tr>\n",
       "    <tr>\n",
       "      <th>1</th>\n",
       "      <td>-0.143772</td>\n",
       "      <td>-0.166974</td>\n",
       "      <td>1.065235</td>\n",
       "      <td>-0.114805</td>\n",
       "      <td>1.612727</td>\n",
       "      <td>0</td>\n",
       "    </tr>\n",
       "    <tr>\n",
       "      <th>2</th>\n",
       "      <td>-0.165946</td>\n",
       "      <td>0.207643</td>\n",
       "      <td>0.066084</td>\n",
       "      <td>1.109969</td>\n",
       "      <td>0.624501</td>\n",
       "      <td>0</td>\n",
       "    </tr>\n",
       "    <tr>\n",
       "      <th>3</th>\n",
       "      <td>-0.287924</td>\n",
       "      <td>-0.054952</td>\n",
       "      <td>0.178228</td>\n",
       "      <td>-0.684093</td>\n",
       "      <td>-0.226487</td>\n",
       "      <td>0</td>\n",
       "    </tr>\n",
       "    <tr>\n",
       "      <th>4</th>\n",
       "      <td>-1.119670</td>\n",
       "      <td>0.753074</td>\n",
       "      <td>0.538196</td>\n",
       "      <td>-0.237033</td>\n",
       "      <td>-0.822843</td>\n",
       "      <td>0</td>\n",
       "    </tr>\n",
       "  </tbody>\n",
       "</table>\n",
       "</div>"
      ],
      "text/plain": [
       "        V14       V10       V12       V17       V11  Class\n",
       "0 -0.311169  0.090794 -0.617801  0.207971 -0.551600      0\n",
       "1 -0.143772 -0.166974  1.065235 -0.114805  1.612727      0\n",
       "2 -0.165946  0.207643  0.066084  1.109969  0.624501      0\n",
       "3 -0.287924 -0.054952  0.178228 -0.684093 -0.226487      0\n",
       "4 -1.119670  0.753074  0.538196 -0.237033 -0.822843      0"
      ]
     },
     "execution_count": 37,
     "metadata": {},
     "output_type": "execute_result"
    }
   ],
   "source": [
    "# make a new data with only class and V14\n",
    "data1=data[[\"V14\",\"V10\",\"V12\",\"V17\",\"V11\",\"Class\"]]\n",
    "data1.head()"
   ]
  },
  {
   "cell_type": "code",
   "execution_count": 38,
   "metadata": {},
   "outputs": [
    {
     "name": "stdout",
     "output_type": "stream",
     "text": [
      "length of training data\n",
      "688\n",
      "length of test data\n",
      "296\n"
     ]
    }
   ],
   "source": [
    "# lets use only some features and train the Random Forest Classifier only on proprtion 1 where fraud and \n",
    "# non fraud are equally 50%\n",
    "#count  indices in both 0 and 1 classes\n",
    "fraud_indices= np.array(data[data.Class==1].index)\n",
    "normal_indices = np.array(data[data.Class==0].index)\n",
    "# get the datapoints for each class\n",
    "Fraud_transaction = data[data[\"Class\"]==1]\n",
    "Normal_transaction= data[data[\"Class\"]==0]\n",
    "Count_Normal_transaction = len(data[data[\"Class\"]==0]) # normal transaction are repersented by 0\n",
    "Count_Fraud_transaction = len(data[data[\"Class\"]==1]) # fraud by 1\n",
    "Normal_indices_undersample = np.array(np.random.choice(normal_indices,                                                           (1*Count_Fraud_transaction),replace=False))\n",
    "undersample_data= np.concatenate([fraud_indices,Normal_indices_undersample])\n",
    "undersample_data = data.iloc[undersample_data,:]\n",
    "Undersample_data1 = undersample_data\n",
    "Undersample_data1_features_train,Undersample_data1_features_test,Undersample_data1_labels_train,\\\n",
    "Undersample_data1_labels_test = data_split(Undersample_data1)"
   ]
  },
  {
   "cell_type": "code",
   "execution_count": 39,
   "metadata": {},
   "outputs": [
    {
     "name": "stdout",
     "output_type": "stream",
     "text": [
      "the recall for this model is : 0.92\n",
      "TP 138\n",
      "TN 141\n",
      "FP 5\n",
      "FN 12\n"
     ]
    },
    {
     "data": {
      "image/png": "[encoded data removed]",
      "text/plain": [
       "<Figure size 432x216 with 2 Axes>"
      ]
     },
     "metadata": {
      "needs_background": "light"
     },
     "output_type": "display_data"
    },
    {
     "name": "stdout",
     "output_type": "stream",
     "text": [
      "\n",
      "----------Classification Report------------------------------------\n",
      "              precision    recall  f1-score   support\n",
      "\n",
      "           0       0.92      0.97      0.94       146\n",
      "           1       0.97      0.92      0.94       150\n",
      "\n",
      "   micro avg       0.94      0.94      0.94       296\n",
      "   macro avg       0.94      0.94      0.94       296\n",
      "weighted avg       0.94      0.94      0.94       296\n",
      "\n"
     ]
    }
   ],
   "source": [
    "# train the model on the three new proportions from  data1\n",
    "clf= RandomForestClassifier(n_estimators=100)\n",
    "model(clf,Undersample_data1_features_train,Undersample_data1_features_test\\\n",
    "      ,Undersample_data1_labels_train,Undersample_data1_labels_test)"
   ]
  },
  {
   "cell_type": "code",
   "execution_count": 40,
   "metadata": {},
   "outputs": [],
   "source": [
    "# preciosn is high now and recall also\n",
    "# lets train this model also on using the 3 proportions but on new data clled data1  with only features\n",
    "# \"V14\",\"V10\",\"V12\",\"V17\",\"V11\",\"Class\"\n",
    "# lets try the three proportions "
   ]
  },
  {
   "cell_type": "code",
   "execution_count": 41,
   "metadata": {},
   "outputs": [
    {
     "name": "stdout",
     "output_type": "stream",
     "text": [
      "(984, 6)\n",
      "(1476, 6)\n",
      "(1968, 6)\n"
     ]
    }
   ],
   "source": [
    "# cretes the three proportions \n",
    "# under smapling we use the mojority of 0 class and same sizes of 1 class proportions\n",
    "# lets create three different proportions that we will use for training models\n",
    "#count  indices in both 0 and 1 classes\n",
    "fraud_indices= np.array(data1[data1.Class==1].index)\n",
    "normal_indices = np.array(data1[data1.Class==0].index)\n",
    "# get the datapoints for each class\n",
    "Fraud_transaction = data1[data1[\"Class\"]==1]\n",
    "Normal_transaction= data1[data1[\"Class\"]==0]\n",
    "Count_Normal_transaction = len(data1[data1[\"Class\"]==0]) # normal transaction are repersented by 0\n",
    "Count_Fraud_transaction = len(data1[data1[\"Class\"]==1]) # fraud by 1\n",
    "under_sample =[0,0,0]\n",
    "for i in range(1,4):\n",
    "    \n",
    "    Normal_indices_undersample = np.array(np.random.choice(normal_indices,\n",
    "                                                            (i*Count_Fraud_transaction),replace=False))\n",
    "    undersample_data= np.concatenate([fraud_indices,Normal_indices_undersample])\n",
    "    undersample_data = data1.iloc[undersample_data,:]\n",
    "    under_sample[i-1] = undersample_data\n",
    "    print(under_sample[i-1].shape)\n",
    "  "
   ]
  },
  {
   "cell_type": "code",
   "execution_count": 42,
   "metadata": {},
   "outputs": [
    {
     "name": "stdout",
     "output_type": "stream",
     "text": [
      " PROPORTION 1\n",
      "\n",
      "length of training data\n",
      "688\n",
      "length of test data\n",
      "296\n",
      "the recall for this model is : 0.8903225806451613\n",
      "TP 138\n",
      "TN 138\n",
      "FP 3\n",
      "FN 17\n"
     ]
    },
    {
     "data": {
      "image/png": "[encoded data removed]",
      "text/plain": [
       "<Figure size 432x216 with 2 Axes>"
      ]
     },
     "metadata": {
      "needs_background": "light"
     },
     "output_type": "display_data"
    },
    {
     "name": "stdout",
     "output_type": "stream",
     "text": [
      "\n",
      "----------Classification Report------------------------------------\n",
      "              precision    recall  f1-score   support\n",
      "\n",
      "           0       0.89      0.98      0.93       141\n",
      "           1       0.98      0.89      0.93       155\n",
      "\n",
      "   micro avg       0.93      0.93      0.93       296\n",
      "   macro avg       0.93      0.93      0.93       296\n",
      "weighted avg       0.94      0.93      0.93       296\n",
      "\n",
      "________________________________________________________________________________________________________\n",
      " PROPORTION 2\n",
      "\n",
      "length of training data\n",
      "1033\n",
      "length of test data\n",
      "443\n",
      "the recall for this model is : 0.8671328671328671\n",
      "TP 124\n",
      "TN 293\n",
      "FP 7\n",
      "FN 19\n"
     ]
    },
    {
     "data": {
      "image/png": "[encoded data removed]",
      "text/plain": [
       "<Figure size 432x216 with 2 Axes>"
      ]
     },
     "metadata": {
      "needs_background": "light"
     },
     "output_type": "display_data"
    },
    {
     "name": "stdout",
     "output_type": "stream",
     "text": [
      "\n",
      "----------Classification Report------------------------------------\n",
      "              precision    recall  f1-score   support\n",
      "\n",
      "           0       0.94      0.98      0.96       300\n",
      "           1       0.95      0.87      0.91       143\n",
      "\n",
      "   micro avg       0.94      0.94      0.94       443\n",
      "   macro avg       0.94      0.92      0.93       443\n",
      "weighted avg       0.94      0.94      0.94       443\n",
      "\n",
      "________________________________________________________________________________________________________\n",
      " PROPORTION 3\n",
      "\n",
      "length of training data\n",
      "1377\n",
      "length of test data\n",
      "591\n",
      "the recall for this model is : 0.8620689655172413\n",
      "TP 125\n",
      "TN 443\n",
      "FP 3\n",
      "FN 20\n"
     ]
    },
    {
     "data": {
      "image/png": "[encoded data removed]",
      "text/plain": [
       "<Figure size 432x216 with 2 Axes>"
      ]
     },
     "metadata": {
      "needs_background": "light"
     },
     "output_type": "display_data"
    },
    {
     "name": "stdout",
     "output_type": "stream",
     "text": [
      "\n",
      "----------Classification Report------------------------------------\n",
      "              precision    recall  f1-score   support\n",
      "\n",
      "           0       0.96      0.99      0.97       446\n",
      "           1       0.98      0.86      0.92       145\n",
      "\n",
      "   micro avg       0.96      0.96      0.96       591\n",
      "   macro avg       0.97      0.93      0.95       591\n",
      "weighted avg       0.96      0.96      0.96       591\n",
      "\n",
      "________________________________________________________________________________________________________\n"
     ]
    }
   ],
   "source": [
    "\n",
    "for i in range(3):  \n",
    "    print(' PROPORTION', i+1 )\n",
    "    print()\n",
    "    clf= RandomForestClassifier(n_estimators=100)# here we are just changing classifier\n",
    "    undersample_features_train,undersample_features_test,undersample_labels_train,\\\n",
    "    undersample_labels_test=data_split(under_sample[i])\n",
    "    model(clf,undersample_features_train,undersample_features_test,\\\n",
    "          undersample_labels_train,undersample_labels_test)\n",
    "    print(\"________________________________________________________________________________________________________\")"
   ]
  },
  {
   "cell_type": "code",
   "execution_count": 43,
   "metadata": {},
   "outputs": [],
   "source": [
    "# both recall (went down a bit) and preciosn are high"
   ]
  },
  {
   "cell_type": "code",
   "execution_count": 44,
   "metadata": {},
   "outputs": [
    {
     "name": "stdout",
     "output_type": "stream",
     "text": [
      " PROPORTION 1\n",
      "\n",
      "length of training data\n",
      "688\n",
      "length of test data\n",
      "296\n",
      "length of training data\n",
      "199364\n",
      "length of test data\n",
      "85443\n",
      "the recall for this model is : 0.9802631578947368\n",
      "TP 149\n",
      "TN 80366\n",
      "FP 4925\n",
      "FN 3\n"
     ]
    },
    {
     "data": {
      "image/png": "[encoded data removed]",
      "text/plain": [
       "<Figure size 432x216 with 2 Axes>"
      ]
     },
     "metadata": {
      "needs_background": "light"
     },
     "output_type": "display_data"
    },
    {
     "name": "stdout",
     "output_type": "stream",
     "text": [
      "\n",
      "----------Classification Report------------------------------------\n",
      "              precision    recall  f1-score   support\n",
      "\n",
      "           0       1.00      0.94      0.97     85291\n",
      "           1       0.03      0.98      0.06       152\n",
      "\n",
      "   micro avg       0.94      0.94      0.94     85443\n",
      "   macro avg       0.51      0.96      0.51     85443\n",
      "weighted avg       1.00      0.94      0.97     85443\n",
      "\n",
      "________________________________________________________________________________________________________\n",
      " PROPORTION 2\n",
      "\n",
      "length of training data\n",
      "1033\n",
      "length of test data\n",
      "443\n",
      "length of training data\n",
      "199364\n",
      "length of test data\n",
      "85443\n",
      "the recall for this model is : 0.949685534591195\n",
      "TP 151\n",
      "TN 83437\n",
      "FP 1847\n",
      "FN 8\n"
     ]
    },
    {
     "data": {
      "image/png": "[encoded data removed]",
      "text/plain": [
       "<Figure size 432x216 with 2 Axes>"
      ]
     },
     "metadata": {
      "needs_background": "light"
     },
     "output_type": "display_data"
    },
    {
     "name": "stdout",
     "output_type": "stream",
     "text": [
      "\n",
      "----------Classification Report------------------------------------\n",
      "              precision    recall  f1-score   support\n",
      "\n",
      "           0       1.00      0.98      0.99     85284\n",
      "           1       0.08      0.95      0.14       159\n",
      "\n",
      "   micro avg       0.98      0.98      0.98     85443\n",
      "   macro avg       0.54      0.96      0.56     85443\n",
      "weighted avg       1.00      0.98      0.99     85443\n",
      "\n",
      "________________________________________________________________________________________________________\n",
      " PROPORTION 3\n",
      "\n",
      "length of training data\n",
      "1377\n",
      "length of test data\n",
      "591\n",
      "length of training data\n",
      "199364\n",
      "length of test data\n",
      "85443\n",
      "the recall for this model is : 0.9452054794520548\n",
      "TP 138\n",
      "TN 84903\n",
      "FP 394\n",
      "FN 8\n"
     ]
    },
    {
     "data": {
      "image/png": "[encoded data removed]",
      "text/plain": [
       "<Figure size 432x216 with 2 Axes>"
      ]
     },
     "metadata": {
      "needs_background": "light"
     },
     "output_type": "display_data"
    },
    {
     "name": "stdout",
     "output_type": "stream",
     "text": [
      "\n",
      "----------Classification Report------------------------------------\n",
      "              precision    recall  f1-score   support\n",
      "\n",
      "           0       1.00      1.00      1.00     85297\n",
      "           1       0.26      0.95      0.41       146\n",
      "\n",
      "   micro avg       1.00      1.00      1.00     85443\n",
      "   macro avg       0.63      0.97      0.70     85443\n",
      "weighted avg       1.00      1.00      1.00     85443\n",
      "\n",
      "________________________________________________________________________________________________________\n"
     ]
    }
   ],
   "source": [
    "#let us train this model using undersample data1 with [\"V14\",\"V10\",\"V12\",\"V17\",\"V11\",\"Class\"]\n",
    "#and test for the whole data1 test set \n",
    "for i in range(3):  \n",
    "    print(' PROPORTION', i+1 )\n",
    "    print()\n",
    "    clf= RandomForestClassifier(n_estimators=100)# here we are just changing classifier\n",
    "    undersample_features_train,undersample_features_test,undersample_labels_train\\\n",
    "    ,undersample_labels_test=data_split(under_sample[i])\n",
    "    newData = data[[\"V14\",\"V10\",\"V12\",\"V17\",\"V11\",\"Class\"]]\n",
    "    data_features_train,data_features_test,data_labels_train,data_labels_test=data_split(newData) \n",
    "    model(clf,undersample_features_train,data_features_test,undersample_labels_train,data_labels_test)\n",
    "    print(\"________________________________________________________________________________________________________\")"
   ]
  },
  {
   "cell_type": "code",
   "execution_count": 45,
   "metadata": {},
   "outputs": [],
   "source": [
    "# so even selecting only important features it seems that precision is still low .26\n",
    "# Lets use Oversampling"
   ]
  },
  {
   "cell_type": "markdown",
   "metadata": {},
   "source": [
    "# Oversampling"
   ]
  },
  {
   "cell_type": "code",
   "execution_count": 46,
   "metadata": {},
   "outputs": [
    {
     "name": "stdout",
     "output_type": "stream",
     "text": [
      "length of training data 284807\n"
     ]
    }
   ],
   "source": [
    "\n",
    "print(\"length of training data\",len(data))"
   ]
  },
  {
   "cell_type": "code",
   "execution_count": 48,
   "metadata": {},
   "outputs": [
    {
     "name": "stdout",
     "output_type": "stream",
     "text": [
      "length of training data\n",
      "199364\n",
      "length of test data\n",
      "85443\n"
     ]
    }
   ],
   "source": [
    "# split it \n",
    "data_train_X,data_test_X,data_train_y,data_test_y=data_split(data)\n"
   ]
  },
  {
   "cell_type": "markdown",
   "metadata": {},
   "source": []
  },
  {
   "cell_type": "code",
   "execution_count": 49,
   "metadata": {},
   "outputs": [
    {
     "name": "stdout",
     "output_type": "stream",
     "text": [
      "length of training data 199364\n",
      "length of normal data 199019\n",
      "length of fraud data 345\n"
     ]
    }
   ],
   "source": [
    "# ok Now we have a traing data\n",
    "data_train_X[\"Class\"]= data_train_y # combining class with original data\n",
    "data_train = data_train_X.copy() # for naming conevntion\n",
    "print(\"length of training data\",len(data_train))\n",
    "# Now make data set of normal transction and fraud from train data\n",
    "normal_data = data_train[data_train[\"Class\"]==0]\n",
    "print(\"length of normal data\",len(normal_data))\n",
    "fraud_data = data_train[data_train[\"Class\"]==1]\n",
    "print(\"length of fraud data\",len(fraud_data))"
   ]
  },
  {
   "cell_type": "code",
   "execution_count": 50,
   "metadata": {},
   "outputs": [
    {
     "name": "stdout",
     "output_type": "stream",
     "text": [
      "length of oversampled data is  318044\n",
      "Number of normal transcation in oversampled data 199019\n",
      "No.of fraud transcation 119025\n",
      "Proportion of Normal data in oversampled data is  0.6257593288978883\n",
      "Proportion of fraud data in oversampled data is  0.3742406711021117\n"
     ]
    }
   ],
   "source": [
    "# Now start oversampling of training data \n",
    "# means we will duplicate many times the value of fraud data\n",
    "for i in range (len(fraud_data)): \n",
    "    normal_data= normal_data.append(fraud_data)\n",
    "os_data = normal_data.copy() \n",
    "print(\"length of oversampled data is \",len(os_data))\n",
    "print(\"Number of normal transcation in oversampled data\",len(os_data[os_data[\"Class\"]==0]))\n",
    "print(\"No.of fraud transcation\",len(os_data[os_data[\"Class\"]==1]))\n",
    "print(\"Proportion of Normal data in oversampled data is \",len(os_data[os_data[\"Class\"]==0])/len(os_data))\n",
    "print(\"Proportion of fraud data in oversampled data is \",len(os_data[os_data[\"Class\"]==1])/len(os_data))"
   ]
  },
  {
   "cell_type": "code",
   "execution_count": 51,
   "metadata": {},
   "outputs": [
    {
     "name": "stdout",
     "output_type": "stream",
     "text": [
      "length of training data\n",
      "222630\n",
      "length of test data\n",
      "95414\n",
      "the recall for this model is : 1.0\n",
      "TP 35776\n",
      "TN 59632\n",
      "FP 6\n",
      "FN 0\n"
     ]
    },
    {
     "data": {
      "image/png": "[encoded data removed]",
      "text/plain": [
       "<Figure size 432x216 with 2 Axes>"
      ]
     },
     "metadata": {
      "needs_background": "light"
     },
     "output_type": "display_data"
    },
    {
     "name": "stdout",
     "output_type": "stream",
     "text": [
      "\n",
      "----------Classification Report------------------------------------\n",
      "              precision    recall  f1-score   support\n",
      "\n",
      "           0       1.00      1.00      1.00     59638\n",
      "           1       1.00      1.00      1.00     35776\n",
      "\n",
      "   micro avg       1.00      1.00      1.00     95414\n",
      "   macro avg       1.00      1.00      1.00     95414\n",
      "weighted avg       1.00      1.00      1.00     95414\n",
      "\n"
     ]
    }
   ],
   "source": [
    "# Now use this oversampled data for trainig the model and predict value for the test data that we created before\n",
    "# now let us try within the the oversampled data itself\n",
    "# for that we need to split our oversampled data into train and test\n",
    "# so call our function data Prepration with oversampled data\n",
    "os_train_X,os_test_X,os_train_y,os_test_y=data_split(os_data)\n",
    "clf= RandomForestClassifier(n_estimators=100)\n",
    "model(clf,os_train_X,os_test_X,os_train_y,os_test_y)"
   ]
  },
  {
   "cell_type": "code",
   "execution_count": 52,
   "metadata": {},
   "outputs": [],
   "source": [
    "# precision . and recall are great \n",
    "# lets try the model with the test data we created when we did oversampling"
   ]
  },
  {
   "cell_type": "code",
   "execution_count": 53,
   "metadata": {},
   "outputs": [
    {
     "data": {
      "text/html": [
       "<div>\n",
       "<style scoped>\n",
       "    .dataframe tbody tr th:only-of-type {\n",
       "        vertical-align: middle;\n",
       "    }\n",
       "\n",
       "    .dataframe tbody tr th {\n",
       "        vertical-align: top;\n",
       "    }\n",
       "\n",
       "    .dataframe thead th {\n",
       "        text-align: right;\n",
       "    }\n",
       "</style>\n",
       "<table border=\"1\" class=\"dataframe\">\n",
       "  <thead>\n",
       "    <tr style=\"text-align: right;\">\n",
       "      <th></th>\n",
       "      <th>V1</th>\n",
       "      <th>V2</th>\n",
       "      <th>V3</th>\n",
       "      <th>V4</th>\n",
       "      <th>V5</th>\n",
       "      <th>V6</th>\n",
       "      <th>V7</th>\n",
       "      <th>V8</th>\n",
       "      <th>V9</th>\n",
       "      <th>V10</th>\n",
       "      <th>...</th>\n",
       "      <th>V21</th>\n",
       "      <th>V22</th>\n",
       "      <th>V23</th>\n",
       "      <th>V24</th>\n",
       "      <th>V25</th>\n",
       "      <th>V26</th>\n",
       "      <th>V27</th>\n",
       "      <th>V28</th>\n",
       "      <th>Scaled Amount</th>\n",
       "      <th>Scaled Time</th>\n",
       "    </tr>\n",
       "  </thead>\n",
       "  <tbody>\n",
       "    <tr>\n",
       "      <th>51330</th>\n",
       "      <td>-0.874901</td>\n",
       "      <td>0.017575</td>\n",
       "      <td>2.302230</td>\n",
       "      <td>1.123200</td>\n",
       "      <td>0.304286</td>\n",
       "      <td>-0.036237</td>\n",
       "      <td>-0.079758</td>\n",
       "      <td>-0.029002</td>\n",
       "      <td>0.052895</td>\n",
       "      <td>0.081073</td>\n",
       "      <td>...</td>\n",
       "      <td>0.238495</td>\n",
       "      <td>0.860603</td>\n",
       "      <td>0.001767</td>\n",
       "      <td>0.097744</td>\n",
       "      <td>-0.669039</td>\n",
       "      <td>-0.376694</td>\n",
       "      <td>-0.071441</td>\n",
       "      <td>0.051784</td>\n",
       "      <td>-0.185390</td>\n",
       "      <td>-1.051166</td>\n",
       "    </tr>\n",
       "    <tr>\n",
       "      <th>102186</th>\n",
       "      <td>-1.484454</td>\n",
       "      <td>1.794425</td>\n",
       "      <td>0.650565</td>\n",
       "      <td>1.208933</td>\n",
       "      <td>-0.627286</td>\n",
       "      <td>-0.511664</td>\n",
       "      <td>-0.146412</td>\n",
       "      <td>0.858116</td>\n",
       "      <td>-0.697067</td>\n",
       "      <td>0.022292</td>\n",
       "      <td>...</td>\n",
       "      <td>0.262860</td>\n",
       "      <td>0.717856</td>\n",
       "      <td>-0.055278</td>\n",
       "      <td>0.409128</td>\n",
       "      <td>-0.169724</td>\n",
       "      <td>-0.196845</td>\n",
       "      <td>0.161567</td>\n",
       "      <td>0.129997</td>\n",
       "      <td>-0.325283</td>\n",
       "      <td>-0.562939</td>\n",
       "    </tr>\n",
       "    <tr>\n",
       "      <th>247472</th>\n",
       "      <td>1.996774</td>\n",
       "      <td>-0.080063</td>\n",
       "      <td>-1.089220</td>\n",
       "      <td>1.511589</td>\n",
       "      <td>-0.138826</td>\n",
       "      <td>-0.872713</td>\n",
       "      <td>0.096995</td>\n",
       "      <td>-0.195768</td>\n",
       "      <td>0.896243</td>\n",
       "      <td>0.225997</td>\n",
       "      <td>...</td>\n",
       "      <td>0.155513</td>\n",
       "      <td>0.699730</td>\n",
       "      <td>-0.033307</td>\n",
       "      <td>0.036224</td>\n",
       "      <td>0.390301</td>\n",
       "      <td>-0.371770</td>\n",
       "      <td>0.005389</td>\n",
       "      <td>-0.057139</td>\n",
       "      <td>-0.321245</td>\n",
       "      <td>1.237619</td>\n",
       "    </tr>\n",
       "    <tr>\n",
       "      <th>115841</th>\n",
       "      <td>1.203071</td>\n",
       "      <td>0.583489</td>\n",
       "      <td>0.563401</td>\n",
       "      <td>2.367944</td>\n",
       "      <td>0.023106</td>\n",
       "      <td>-0.250442</td>\n",
       "      <td>0.133081</td>\n",
       "      <td>-0.077875</td>\n",
       "      <td>-0.719320</td>\n",
       "      <td>0.664576</td>\n",
       "      <td>...</td>\n",
       "      <td>-0.275246</td>\n",
       "      <td>-0.883341</td>\n",
       "      <td>0.074344</td>\n",
       "      <td>-0.170320</td>\n",
       "      <td>0.314924</td>\n",
       "      <td>-0.236020</td>\n",
       "      <td>-0.008303</td>\n",
       "      <td>0.025358</td>\n",
       "      <td>-0.305292</td>\n",
       "      <td>-0.437454</td>\n",
       "    </tr>\n",
       "    <tr>\n",
       "      <th>118120</th>\n",
       "      <td>0.195536</td>\n",
       "      <td>0.748381</td>\n",
       "      <td>1.293379</td>\n",
       "      <td>1.262155</td>\n",
       "      <td>-0.355723</td>\n",
       "      <td>-0.665481</td>\n",
       "      <td>0.390946</td>\n",
       "      <td>-0.041125</td>\n",
       "      <td>0.142932</td>\n",
       "      <td>-0.196697</td>\n",
       "      <td>...</td>\n",
       "      <td>-0.075685</td>\n",
       "      <td>0.007430</td>\n",
       "      <td>0.237072</td>\n",
       "      <td>0.693400</td>\n",
       "      <td>-1.182534</td>\n",
       "      <td>-0.700792</td>\n",
       "      <td>0.244978</td>\n",
       "      <td>0.187668</td>\n",
       "      <td>-0.349231</td>\n",
       "      <td>-0.418144</td>\n",
       "    </tr>\n",
       "  </tbody>\n",
       "</table>\n",
       "<p>5 rows × 30 columns</p>\n",
       "</div>"
      ],
      "text/plain": [
       "              V1        V2        V3        V4        V5        V6        V7  \\\n",
       "51330  -0.874901  0.017575  2.302230  1.123200  0.304286 -0.036237 -0.079758   \n",
       "102186 -1.484454  1.794425  0.650565  1.208933 -0.627286 -0.511664 -0.146412   \n",
       "247472  1.996774 -0.080063 -1.089220  1.511589 -0.138826 -0.872713  0.096995   \n",
       "115841  1.203071  0.583489  0.563401  2.367944  0.023106 -0.250442  0.133081   \n",
       "118120  0.195536  0.748381  1.293379  1.262155 -0.355723 -0.665481  0.390946   \n",
       "\n",
       "              V8        V9       V10     ...            V21       V22  \\\n",
       "51330  -0.029002  0.052895  0.081073     ...       0.238495  0.860603   \n",
       "102186  0.858116 -0.697067  0.022292     ...       0.262860  0.717856   \n",
       "247472 -0.195768  0.896243  0.225997     ...       0.155513  0.699730   \n",
       "115841 -0.077875 -0.719320  0.664576     ...      -0.275246 -0.883341   \n",
       "118120 -0.041125  0.142932 -0.196697     ...      -0.075685  0.007430   \n",
       "\n",
       "             V23       V24       V25       V26       V27       V28  \\\n",
       "51330   0.001767  0.097744 -0.669039 -0.376694 -0.071441  0.051784   \n",
       "102186 -0.055278  0.409128 -0.169724 -0.196845  0.161567  0.129997   \n",
       "247472 -0.033307  0.036224  0.390301 -0.371770  0.005389 -0.057139   \n",
       "115841  0.074344 -0.170320  0.314924 -0.236020 -0.008303  0.025358   \n",
       "118120  0.237072  0.693400 -1.182534 -0.700792  0.244978  0.187668   \n",
       "\n",
       "        Scaled Amount  Scaled Time  \n",
       "51330       -0.185390    -1.051166  \n",
       "102186      -0.325283    -0.562939  \n",
       "247472      -0.321245     1.237619  \n",
       "115841      -0.305292    -0.437454  \n",
       "118120      -0.349231    -0.418144  \n",
       "\n",
       "[5 rows x 30 columns]"
      ]
     },
     "execution_count": 53,
     "metadata": {},
     "output_type": "execute_result"
    }
   ],
   "source": [
    "# now take all over sampled data as trainging and test it for test data\n",
    "os_data_X = os_data.drop(\"Class\",axis=1)\n",
    "os_data_y = os_data[\"Class\"]\n",
    "data_test_X.head()"
   ]
  },
  {
   "cell_type": "code",
   "execution_count": 73,
   "metadata": {},
   "outputs": [
    {
     "name": "stdout",
     "output_type": "stream",
     "text": [
      "the recall for this model is : 0.7414965986394558\n",
      "TP 109\n",
      "TN 85284\n",
      "FP 12\n",
      "FN 38\n"
     ]
    },
    {
     "data": {
      "image/png": "[encoded data removed]",
      "text/plain": [
       "<Figure size 432x216 with 2 Axes>"
      ]
     },
     "metadata": {
      "needs_background": "light"
     },
     "output_type": "display_data"
    },
    {
     "name": "stdout",
     "output_type": "stream",
     "text": [
      "\n",
      "----------Classification Report------------------------------------\n",
      "              precision    recall  f1-score   support\n",
      "\n",
      "           0       1.00      1.00      1.00     85296\n",
      "           1       0.90      0.74      0.81       147\n",
      "\n",
      "   micro avg       1.00      1.00      1.00     85443\n",
      "   macro avg       0.95      0.87      0.91     85443\n",
      "weighted avg       1.00      1.00      1.00     85443\n",
      "\n"
     ]
    }
   ],
   "source": [
    "# now use it for modeling\n",
    "clf= RandomForestClassifier(n_estimators=100)\n",
    "model(clf,os_data_X,data_test_X,os_data_y,data_test_y)"
   ]
  },
  {
   "cell_type": "code",
   "execution_count": 55,
   "metadata": {},
   "outputs": [],
   "source": [
    "# . now we have good precision and recall so we conclude that oversampling is better since undersmapling lead to loss \n",
    "# of data because the model judge many normal transcations as no fraus due to low precision"
   ]
  },
  {
   "cell_type": "markdown",
   "metadata": {},
   "source": [
    "\n"
   ]
  },
  {
   "cell_type": "code",
   "execution_count": 56,
   "metadata": {},
   "outputs": [
    {
     "name": "stdout",
     "output_type": "stream",
     "text": [
      "100.0\n"
     ]
    }
   ],
   "source": [
    "acc= round(clf.score(os_data_X, os_data_y) * 100, 2)\n",
    "print(acc)"
   ]
  },
  {
   "cell_type": "code",
   "execution_count": null,
   "metadata": {},
   "outputs": [],
   "source": []
  },
  {
   "cell_type": "code",
   "execution_count": null,
   "metadata": {},
   "outputs": [],
   "source": []
  },
  {
   "cell_type": "code",
   "execution_count": null,
   "metadata": {},
   "outputs": [],
   "source": []
  },
  {
   "cell_type": "code",
   "execution_count": null,
   "metadata": {},
   "outputs": [],
   "source": []
  },
  {
   "cell_type": "code",
   "execution_count": null,
   "metadata": {},
   "outputs": [],
   "source": []
  },
  {
   "cell_type": "markdown",
   "metadata": {},
   "source": [
    "# Model Selection and Deployment"
   ]
  },
  {
   "cell_type": "code",
   "execution_count": 57,
   "metadata": {},
   "outputs": [
    {
     "data": {
      "text/plain": [
       "GridSearchCV(cv=5, error_score='raise-deprecating',\n",
       "       estimator=RandomForestClassifier(bootstrap=True, class_weight=None, criterion='gini',\n",
       "            max_depth=None, max_features='auto', max_leaf_nodes=None,\n",
       "            min_impurity_decrease=0.0, min_impurity_split=None,\n",
       "            min_samples_leaf=1, min_samples_split=2,\n",
       "            min_weight_fraction_leaf=0.0, n_estimators='warn', n_jobs=None,\n",
       "            oob_score=False, random_state=42, verbose=0, warm_start=False),\n",
       "       fit_params=None, iid='warn', n_jobs=None,\n",
       "       param_grid=[{'n_estimators': [3, 10, 30], 'max_features': [2, 4, 6, 8]}, {'bootstrap': [False], 'n_estimators': [3, 10], 'max_features': [2, 3, 4]}],\n",
       "       pre_dispatch='2*n_jobs', refit=True, return_train_score=True,\n",
       "       scoring='neg_mean_squared_error', verbose=0)"
      ]
     },
     "execution_count": 57,
     "metadata": {},
     "output_type": "execute_result"
    }
   ],
   "source": [
    "# we use data obtained from oversampling \n",
    "train_set= os_data_X \n",
    "train_targets= os_data_y \n",
    "\n",
    "from sklearn.model_selection import GridSearchCV\n",
    "\n",
    "param_grid = [\n",
    "    # try 12 (3×4) combinations of hyperparameters\n",
    "    {'n_estimators': [3, 10, 30],\n",
    "     'max_features': [2, 4, 6, 8]},\n",
    "    # then try 6 (2×3) combinations with bootstrap\n",
    "    # set as False\n",
    "    {'bootstrap': [False],\n",
    "     'n_estimators': [3, 10],\n",
    "     'max_features': [2, 3, 4]},\n",
    "  ]\n",
    "from sklearn.ensemble import RandomForestClassifier\n",
    "forest_reg = RandomForestClassifier(random_state=42) \n",
    "# train across 5 folds, that's a total of\n",
    "# (12+6)*5=90 rounds of training \n",
    "grid_search = GridSearchCV(\\\n",
    "                   forest_reg,\n",
    "                   param_grid,\n",
    "                   cv=5,\n",
    "                   scoring='neg_mean_squared_error',\n",
    "                   return_train_score=True,\n",
    "                          )\n",
    "grid_search.fit(train_set,\n",
    "                train_targets)"
   ]
  },
  {
   "cell_type": "code",
   "execution_count": 60,
   "metadata": {},
   "outputs": [
    {
     "name": "stdout",
     "output_type": "stream",
     "text": [
      "best parameters: {'bootstrap': False, 'max_features': 2, 'n_estimators': 10}\n",
      "[-0.00000000e+00 -0.00000000e+00 -0.00000000e+00 -0.00000000e+00\n",
      " -6.28831945e-05 -6.28851717e-05 -0.00000000e+00 -3.14425858e-05\n",
      " -9.43277575e-05 -0.00000000e+00]\n"
     ]
    }
   ],
   "source": [
    "# The best hyperparameter combination found:\n",
    "from sklearn.model_selection import cross_val_score\n",
    "print('best parameters:', grid_search.best_params_)\n",
    "\n",
    "# The best model with above parameters\n",
    "best_model = grid_search.best_estimator_\n",
    "pred = best_model.predict(train_set)\n",
    "#print('MSE:', mean_squared_error(pred,\n",
    "#                                 train_targets))\n",
    "scores = cross_val_score(best_model,\n",
    "                          train_set,\n",
    "                          train_targets,\n",
    "                          cv=10,\n",
    "                          scoring=\"neg_mean_squared_error\")\n",
    "print(scores)"
   ]
  },
  {
   "cell_type": "code",
   "execution_count": 61,
   "metadata": {},
   "outputs": [
    {
     "data": {
      "text/plain": [
       "RandomizedSearchCV(cv=5, error_score='raise-deprecating',\n",
       "          estimator=RandomForestClassifier(bootstrap=True, class_weight=None, criterion='gini',\n",
       "            max_depth=None, max_features='auto', max_leaf_nodes=None,\n",
       "            min_impurity_decrease=0.0, min_impurity_split=None,\n",
       "            min_samples_leaf=1, min_samples_split=2,\n",
       "            min_weight_fraction_leaf=0.0, n_estimators='warn', n_jobs=None,\n",
       "            oob_score=False, random_state=42, verbose=0, warm_start=False),\n",
       "          fit_params=None, iid='warn', n_iter=10, n_jobs=None,\n",
       "          param_distributions={'bootstrap': [True, False], 'n_estimators': <scipy.stats._distn_infrastructure.rv_frozen object at 0x1a20f586d8>, 'max_features': <scipy.stats._distn_infrastructure.rv_frozen object at 0x1a20f588d0>},\n",
       "          pre_dispatch='2*n_jobs', random_state=None, refit=True,\n",
       "          return_train_score=True, scoring='neg_mean_squared_error',\n",
       "          verbose=0)"
      ]
     },
     "execution_count": 61,
     "metadata": {},
     "output_type": "execute_result"
    }
   ],
   "source": [
    "# Randomized search\n",
    "from scipy.stats import randint\n",
    "from sklearn.model_selection import RandomizedSearchCV\n",
    "\n",
    "params = {'bootstrap': [True, False],\n",
    "          'n_estimators': randint(2, 30),\n",
    "          'max_features': randint(2, 10),}\n",
    "\n",
    "forest_reg = RandomForestClassifier(random_state=42)\n",
    "\n",
    "random_search = RandomizedSearchCV(\\\n",
    "                   forest_reg,\n",
    "                   params,\n",
    "                   cv=5,\n",
    "                   scoring='neg_mean_squared_error',\n",
    "                   return_train_score=True,\n",
    "                                  )\n",
    "random_search.fit(train_set,\n",
    "                  train_targets)"
   ]
  },
  {
   "cell_type": "code",
   "execution_count": 62,
   "metadata": {},
   "outputs": [
    {
     "name": "stdout",
     "output_type": "stream",
     "text": [
      "best parameters: {'bootstrap': False, 'max_features': 5, 'n_estimators': 8}\n",
      "[-0.00000000e+00 -3.14415972e-05 -0.00000000e+00 -0.00000000e+00\n",
      " -9.43247917e-05 -6.28851717e-05 -0.00000000e+00 -3.14425858e-05\n",
      " -9.43277575e-05 -0.00000000e+00]\n"
     ]
    }
   ],
   "source": [
    "# The best hyperparameter combination found:\n",
    "print('best parameters:', random_search.best_params_)\n",
    "\n",
    "# The best model with above parameters\n",
    "best_model = random_search.best_estimator_\n",
    "train_pred = best_model.predict(train_set)\n",
    "#print('MSE:', mean_squared_error(train_pred,\n",
    "  #                               train_targets))\n",
    "scores = cross_val_score(best_model,\n",
    "                          train_set,\n",
    "                          train_targets,\n",
    "                          cv=10,\n",
    "                          scoring=\"neg_mean_squared_error\")\n",
    "print(scores)"
   ]
  },
  {
   "cell_type": "code",
   "execution_count": 63,
   "metadata": {},
   "outputs": [
    {
     "data": {
      "text/plain": [
       "[(0.4112344504482578, 'V14'),\n",
       " (0.10432600324025951, 'V17'),\n",
       " (0.09853635661785894, 'V4'),\n",
       " (0.09317369760769766, 'V11'),\n",
       " (0.0799673175475097, 'V7'),\n",
       " (0.029605109367643153, 'V12'),\n",
       " (0.02908951746162104, 'V10'),\n",
       " (0.012477283373442893, 'Scaled Amount'),\n",
       " (0.00978165548679754, 'V13'),\n",
       " (0.009595940289459263, 'V23'),\n",
       " (0.008824439532861064, 'V19'),\n",
       " (0.008659930302389046, 'V16'),\n",
       " (0.008341586094824372, 'V9'),\n",
       " (0.008174609207430824, 'V3'),\n",
       " (0.008016040266300706, 'V22'),\n",
       " (0.0075639887908855495, 'V18'),\n",
       " (0.007389350690853251, 'V6'),\n",
       " (0.0068823802171548085, 'V15'),\n",
       " (0.006868036322655982, 'V5'),\n",
       " (0.0067787735499525974, 'V1'),\n",
       " (0.006556975731435542, 'V20'),\n",
       " (0.006477908430709595, 'V26'),\n",
       " (0.005268783429913555, 'V25'),\n",
       " (0.004975232350149802, 'V2'),\n",
       " (0.004633774127718962, 'Scaled Time'),\n",
       " (0.004013555470005497, 'V24'),\n",
       " (0.003612606583379717, 'V8'),\n",
       " (0.0034959783667993477, 'V21'),\n",
       " (0.002970309292932951, 'V28'),\n",
       " (0.0027084098010993086, 'V27')]"
      ]
     },
     "execution_count": 63,
     "metadata": {},
     "output_type": "execute_result"
    }
   ],
   "source": [
    "# Analyze the best model\n",
    "feature_importance = best_model.feature_importances_\n",
    "attributes = train_set.columns\n",
    "sorted(zip(feature_importance, attributes),\n",
    "       reverse=True)"
   ]
  },
  {
   "cell_type": "code",
   "execution_count": 65,
   "metadata": {},
   "outputs": [
    {
     "name": "stdout",
     "output_type": "stream",
     "text": [
      "The model accuracy 100.0\n",
      "MSE on best_mseOn test set: 0.0\n",
      "MSE on best_mse train set: 0.0\n"
     ]
    }
   ],
   "source": [
    "# evaluation on test set  and train test\n",
    "\n",
    "from sklearn.metrics import mean_squared_error\n",
    "# Evaluation the model on test set\n",
    "test_pred1 = best_model.predict(os_test_X)\n",
    "best_mseonValidation = mean_squared_error( os_test_y,  \n",
    "                              test_pred1)\n",
    "\n",
    "test_pred = best_model.predict(train_set)\n",
    "best_mseOnTrainSet= mean_squared_error( train_targets,  \n",
    "                              test_pred)\n",
    "acc= round(clf.score(os_data_X, os_data_y) * 100, 2)\n",
    "print('The model accuracy',acc)\n",
    "print('MSE on best_mseOn test set:', best_mseonValidation)\n",
    "print('MSE on best_mse train set:', best_mseOnTrainSet)"
   ]
  },
  {
   "cell_type": "code",
   "execution_count": null,
   "metadata": {},
   "outputs": [],
   "source": [
    "#conclusion\n",
    "# the acurracy is high, the idea of using sub-samplying workde fine for oversmapling as it clear where the precision \n",
    "# improved tremdousley over 90%. undersampling did not work for fine for precision and this could be because there  \n",
    "# was big loss of information specifically the model classified a lot of normal transcation as fraud (low precision)"
   ]
  },
  {
   "cell_type": "code",
   "execution_count": null,
   "metadata": {},
   "outputs": [],
   "source": []
  }
 ],
 "metadata": {
  "kernelspec": {
   "display_name": "Python 3",
   "language": "python",
   "name": "python3"
  },
  "language_info": {
   "codemirror_mode": {
    "name": "ipython",
    "version": 3
   },
   "file_extension": ".py",
   "mimetype": "text/x-python",
   "name": "python",
   "nbconvert_exporter": "python",
   "pygments_lexer": "ipython3",
   "version": "3.7.1"
  }
 },
 "nbformat": 4,
 "nbformat_minor": 2
}
